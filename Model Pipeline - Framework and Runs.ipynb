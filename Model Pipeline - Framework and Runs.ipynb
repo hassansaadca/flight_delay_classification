{
 "cells": [
  {
   "cell_type": "markdown",
   "metadata": {
    "application/vnd.databricks.v1+cell": {
     "inputWidgets": {},
     "nuid": "2b190945-d68e-46e8-bed7-9d1038cf0608",
     "showTitle": false,
     "title": ""
    }
   },
   "source": [
    "##### Setup"
   ]
  },
  {
   "cell_type": "code",
   "execution_count": 0,
   "metadata": {
    "application/vnd.databricks.v1+cell": {
     "inputWidgets": {},
     "nuid": "be886587-916f-45c2-8732-b237afe671a2",
     "showTitle": false,
     "title": ""
    }
   },
   "outputs": [
    {
     "data": {
      "text/html": [
       "<style scoped>\n",
       "  .ansiout {\n",
       "    display: block;\n",
       "    unicode-bidi: embed;\n",
       "    white-space: pre-wrap;\n",
       "    word-wrap: break-word;\n",
       "    word-break: break-all;\n",
       "    font-family: \"Source Code Pro\", \"Menlo\", monospace;;\n",
       "    font-size: 13px;\n",
       "    color: #555;\n",
       "    margin-left: 4px;\n",
       "    line-height: 19px;\n",
       "  }\n",
       "</style>\n",
       "<div class=\"ansiout\"></div>"
      ]
     },
     "metadata": {
      "application/vnd.databricks.v1+output": {
       "addedWidgets": {},
       "arguments": {},
       "data": "<div class=\"ansiout\"></div>",
       "datasetInfos": [],
       "metadata": {},
       "removedWidgets": [],
       "type": "html"
      }
     },
     "output_type": "display_data"
    }
   ],
   "source": [
    "#basic imports\n",
    "from pyspark.sql.functions import col, count, when, isnan, isnull, percent_rank, monotonically_increasing_id\n",
    "from pyspark.sql import functions as F\n",
    "from pyspark.sql import types\n",
    "from pyspark import StorageLevel\n",
    "\n",
    "#for EDA/plots\n",
    "import pandas as pd\n",
    "import numpy as np\n",
    "import matplotlib.pyplot as plt\n",
    "import seaborn as sns\n",
    "%matplotlib inline\n",
    "\n",
    "#for feature creation\n",
    "from pyspark.ml.feature import StandardScaler, VectorAssembler, StringIndexer, OneHotEncoder, ChiSqSelector, Bucketizer\n",
    "from pyspark.sql.window import Window\n",
    "from pyspark.sql import Row\n",
    "from pyspark.sql.functions import concat, substring, lit, udf\n",
    "from pyspark.sql import DataFrame\n",
    "from pyspark.sql import Window as W\n",
    "\n",
    "#for modeling\n",
    "from pyspark.ml.classification import LogisticRegression, DecisionTreeClassifier, RandomForestClassifier, GBTClassifier, NaiveBayes\n",
    "from pyspark.ml.tuning import CrossValidator, ParamGridBuilder\n",
    "from pyspark.ml import Pipeline\n",
    "import itertools\n",
    "#for evaluation\n",
    "from pyspark.ml.evaluation import BinaryClassificationEvaluator\n",
    "from pyspark.mllib.evaluation import BinaryClassificationMetrics, MulticlassMetrics\n",
    "from sklearn.metrics import classification_report\n",
    "from sparkdl.xgboost import XgboostClassifier"
   ]
  },
  {
   "cell_type": "code",
   "execution_count": 0,
   "metadata": {
    "application/vnd.databricks.v1+cell": {
     "inputWidgets": {},
     "nuid": "f53c8e6d-8d5a-49e5-9ad1-4f9d48df8fa3",
     "showTitle": false,
     "title": ""
    }
   },
   "outputs": [
    {
     "data": {
      "text/html": [
       "<style scoped>\n",
       "  .ansiout {\n",
       "    display: block;\n",
       "    unicode-bidi: embed;\n",
       "    white-space: pre-wrap;\n",
       "    word-wrap: break-word;\n",
       "    word-break: break-all;\n",
       "    font-family: \"Source Code Pro\", \"Menlo\", monospace;;\n",
       "    font-size: 13px;\n",
       "    color: #555;\n",
       "    margin-left: 4px;\n",
       "    line-height: 19px;\n",
       "  }\n",
       "</style>\n",
       "<div class=\"ansiout\"></div>"
      ]
     },
     "metadata": {
      "application/vnd.databricks.v1+output": {
       "addedWidgets": {},
       "arguments": {},
       "data": "<div class=\"ansiout\"></div>",
       "datasetInfos": [],
       "metadata": {},
       "removedWidgets": [],
       "type": "html"
      }
     },
     "output_type": "display_data"
    }
   ],
   "source": [
    "blob_container = \"team20fp\" # The name of your container created in https://portal.azure.com\n",
    "storage_account = \"w261fp\" # The name of your Storage account created in https://portal.azure.com\n",
    "secret_scope = \"team20scope\" # The name of the scope created in your local computer using the Databricks CLI\n",
    "secret_key = \"team20key\" # The name of the secret key created in your local computer using the Databricks CLI \n",
    "blob_url = f\"wasbs://{blob_container}@{storage_account}.blob.core.windows.net\"\n",
    "mount_path = \"/mnt/mids-w261\"\n",
    "\n",
    "spark.conf.set(\n",
    "  f\"fs.azure.sas.{blob_container}.{storage_account}.blob.core.windows.net\",\n",
    "  dbutils.secrets.get(scope = secret_scope, key = secret_key)\n",
    ")"
   ]
  },
  {
   "cell_type": "markdown",
   "metadata": {
    "application/vnd.databricks.v1+cell": {
     "inputWidgets": {},
     "nuid": "f0c519cb-7b0c-40c0-aa88-409cdf8a3021",
     "showTitle": false,
     "title": ""
    }
   },
   "source": [
    "### Load Data"
   ]
  },
  {
   "cell_type": "code",
   "execution_count": 0,
   "metadata": {
    "application/vnd.databricks.v1+cell": {
     "inputWidgets": {},
     "nuid": "da975b18-3a1e-4cf9-b4eb-47b66616f28b",
     "showTitle": false,
     "title": ""
    }
   },
   "outputs": [
    {
     "data": {
      "text/html": [
       "<style scoped>\n",
       "  .ansiout {\n",
       "    display: block;\n",
       "    unicode-bidi: embed;\n",
       "    white-space: pre-wrap;\n",
       "    word-wrap: break-word;\n",
       "    word-break: break-all;\n",
       "    font-family: \"Source Code Pro\", \"Menlo\", monospace;;\n",
       "    font-size: 13px;\n",
       "    color: #555;\n",
       "    margin-left: 4px;\n",
       "    line-height: 19px;\n",
       "  }\n",
       "</style>\n",
       "<div class=\"ansiout\"></div>"
      ]
     },
     "metadata": {
      "application/vnd.databricks.v1+output": {
       "addedWidgets": {},
       "arguments": {},
       "data": "<div class=\"ansiout\"></div>",
       "datasetInfos": [],
       "metadata": {},
       "removedWidgets": [],
       "type": "html"
      }
     },
     "output_type": "display_data"
    }
   ],
   "source": [
    "def load_data(prefolded = True, limited_features = True):\n",
    "    \n",
    "    #load the set of 5-fold data\n",
    "    if prefolded:\n",
    "        df_list = []\n",
    "        \n",
    "        #limited features\n",
    "        if limited_features:\n",
    "            for i in range(5):\n",
    "                train = spark.read.parquet(f\"{blob_url}/folds5_lim_features/fold_{i}_train\")\n",
    "                test = spark.read.parquet(f\"{blob_url}/folds5_lim_features/fold_{i}_test\")\n",
    "                df_list.append((train, test))\n",
    "        #all features\n",
    "        else:\n",
    "            for i in range(5):\n",
    "                train = spark.read.parquet(f\"{blob_url}/folds5_full_features/fold_{i}_train\")\n",
    "                test = spark.read.parquet(f\"{blob_url}/folds5_full_features/fold_{i}_test\")\n",
    "                df_list.append((train, test))\n",
    "        return(df_list)\n",
    "       \n",
    "    #return a single dataframe (entire feature set)    \n",
    "    else:\n",
    "        df = spark.read.parquet(f\"{blob_url}/feature_set_full_sorted\")\n",
    "        \n",
    "        return(df)"
   ]
  },
  {
   "cell_type": "markdown",
   "metadata": {
    "application/vnd.databricks.v1+cell": {
     "inputWidgets": {},
     "nuid": "e6437747-9f33-44c4-a5c5-9eba259dd327",
     "showTitle": false,
     "title": ""
    }
   },
   "source": [
    "### Modeling Helper Functions"
   ]
  },
  {
   "cell_type": "code",
   "execution_count": 0,
   "metadata": {
    "application/vnd.databricks.v1+cell": {
     "inputWidgets": {},
     "nuid": "a0915a44-1d65-4b4c-87eb-bdc32a18cdc9",
     "showTitle": false,
     "title": ""
    }
   },
   "outputs": [
    {
     "data": {
      "text/html": [
       "<style scoped>\n",
       "  .ansiout {\n",
       "    display: block;\n",
       "    unicode-bidi: embed;\n",
       "    white-space: pre-wrap;\n",
       "    word-wrap: break-word;\n",
       "    word-break: break-all;\n",
       "    font-family: \"Source Code Pro\", \"Menlo\", monospace;;\n",
       "    font-size: 13px;\n",
       "    color: #555;\n",
       "    margin-left: 4px;\n",
       "    line-height: 19px;\n",
       "  }\n",
       "</style>\n",
       "<div class=\"ansiout\"></div>"
      ]
     },
     "metadata": {
      "application/vnd.databricks.v1+output": {
       "addedWidgets": {},
       "arguments": {},
       "data": "<div class=\"ansiout\"></div>",
       "datasetInfos": [],
       "metadata": {},
       "removedWidgets": [],
       "type": "html"
      }
     },
     "output_type": "display_data"
    }
   ],
   "source": [
    "################# functions for prepping data ###################\n",
    "\n",
    "def balance_trainset(train_df, up_or_down = 'up'):\n",
    "    ''' Balance classes in training dataset'''\n",
    "    \n",
    "    num_delay = train_df.filter(F.col('label') == 1).count()\n",
    "    num_ontime = train_df.filter(F.col('label') == 0).count()\n",
    "    \n",
    "    #total_obs = num_delay + num_ontime\n",
    "    \n",
    "    if up_or_down == 'up':\n",
    "        pct = num_ontime/num_delay\n",
    "        \n",
    "        ontime_df = train_df.filter(F.col('label') == 0)\n",
    "        delay_df = train_df.filter(F.col('label') == 1).sample(withReplacement = True, fraction = pct, seed = 1)\n",
    "        \n",
    "    \n",
    "    elif up_or_down == 'down':\n",
    "        pct = num_delay/num_ontime\n",
    "        \n",
    "        delay_df = train_df.filter(F.col('label') == 1)\n",
    "        ontime_df = train_df.filter(F.col('label') == 0).sample(withReplacement = False, fraction = pct, seed = 1)\n",
    "    \n",
    "    \n",
    "    train_balance = delay_df.union(ontime_df)\n",
    "    print(f'Balancing factor: {round(pct,2)}')\n",
    "    print(f'Num observations after balancing: {train_balance.count()}')\n",
    "    return train_balance\n",
    "\n",
    "################### functions for modeling ######################\n",
    "\n",
    "def lr_pipeline(model, cts_features, cat_features, bucket_features):\n",
    "    ''' Pipeline to scale continuous features and encode categorical features'''\n",
    "    \n",
    "    #scale continuous features\n",
    "    vect_cts = VectorAssembler(inputCols = cts_features,\n",
    "                               outputCol = 'cts_feats',\n",
    "                              handleInvalid = 'skip')\n",
    "    scaler = StandardScaler(inputCol = 'cts_feats',\n",
    "                            outputCol = 'scaled_cts_feats',\n",
    "                            withStd = True, withMean = True)\n",
    "    \n",
    "    ##test bucketed vars\n",
    "    vect_bucket = Bucketizer(inputCols = bucket_features,\n",
    "                                         splitsArray = [[0,8,25,50,100,250,500,1000,float('inf')], #orig_fpd\n",
    "                                           [0,8,25,50,100,250,500,1000,float('inf')], #dest_fpd\n",
    "                                           [-float('inf'), 4023, float('inf')], #vis\n",
    "                                           [-float('inf'), -156, float('inf')], #air_tmp\n",
    "                                           [1,2,3,4,5,7,float('inf')], #distance (group)\n",
    "                                           [0, 0.20, 0.45, 0.6, 0.8, float('inf')], #pct carrier del\n",
    "                                           [0, 0.20, 0.45, 0.6, 0.8, float('inf')], #pct route del\n",
    "                                           [0, 0.20, 0.45, 0.6, 0.8, float('inf')], #pct orig del\n",
    "                                           [0, 0.20, 0.45, 0.6, 0.8, float('inf')] #pct dest del\n",
    "                                          ],\n",
    "                            outputCols = [col+'_bucket' for col in bucket_features])\n",
    "    \n",
    "    #index string values before one hot encoding (also works on numeric categoricals, will convert to string then index)\n",
    "    indexed = StringIndexer(inputCols = cat_features+[col+'_bucket' for col in bucket_features],\n",
    "                            outputCols = [col+'_idx' for col in cat_features+bucket_features],\n",
    "                            handleInvalid = 'keep')\n",
    "    \n",
    "    \n",
    "    onehot_feats = OneHotEncoder(inputCols = [col+'_idx' for col in cat_features+bucket_features],\n",
    "                                outputCols = [col+'_enc' for col in cat_features+bucket_features])\n",
    "    \n",
    "    vect_cat = VectorAssembler(inputCols = [col+'_enc' for col in cat_features+bucket_features],\n",
    "                              outputCol = 'cat_feats')\n",
    "    \n",
    "\n",
    "    #combine cts and cat features\n",
    "    combined_vect = VectorAssembler(inputCols = ['scaled_cts_feats', 'cat_feats'],\n",
    "                                   outputCol = 'features')\n",
    "    \n",
    "    #combine pipeline components\n",
    "    pipeline = Pipeline(stages = [vect_cts, scaler, vect_bucket, indexed, onehot_feats, vect_cat, combined_vect, model])\n",
    "    return pipeline\n",
    "\n",
    "# tree algo pipeline - no scaler, no feature selector\n",
    "def tree_pipeline(model, cts_features, cat_features, bucket_features):\n",
    "    \n",
    "    #cts vars\n",
    "    vect_cts = VectorAssembler(inputCols = cts_features,\n",
    "                               outputCol = 'cts_feats',\n",
    "                              handleInvalid = 'skip')\n",
    "    \n",
    "    #cts vars to bucket\n",
    "    vect_bucket = Bucketizer(inputCols = bucket_features,\n",
    "                            splitsArray = [[0,8,25,50,100,250,500,1000,float('inf')], #orig_fpd\n",
    "                                           [0,8,25,50,100,250,500,1000,float('inf')], #dest_fpd\n",
    "                                           [-float('inf'), 4023, float('inf')], #vis\n",
    "                                           [-float('inf'), -156, float('inf')], #air_tmp\n",
    "                                           [1,2,3,4,5,7,float('inf')], #distance (group)\n",
    "                                           [0, 0.20, 0.4, 0.6, 0.8, float('inf')], #pct carrier del\n",
    "                                           [0, 0.20, 0.4, 0.6, 0.8, float('inf')], #pct route del\n",
    "                                           [0, 0.20, 0.4, 0.6, 0.8, float('inf')], #pct orig del\n",
    "                                           [0, 0.20, 0.4, 0.6, 0.8, float('inf')] #pct dest del\n",
    "                                          ],\n",
    "                             outputCols = [col+'_bucket' for col in bucket_features])\n",
    "    \n",
    "    #cat vars\n",
    "    indexed = StringIndexer(inputCols = cat_features+[col+'_bucket' for col in bucket_features],\n",
    "                            outputCols = [col+'_idx' for col in cat_features+bucket_features],\n",
    "                            handleInvalid = 'keep')\n",
    "    \n",
    "    \n",
    "    onehot_feats = OneHotEncoder(inputCols = [col+'_idx' for col in cat_features+bucket_features],\n",
    "                                outputCols = [col+'_enc' for col in cat_features+bucket_features])\n",
    "    \n",
    "    vect_cat = VectorAssembler(inputCols = [col+'_enc' for col in cat_features+bucket_features],\n",
    "                              outputCol = 'cat_feats')\n",
    "    \n",
    "    combined_vect = VectorAssembler(inputCols = ['cts_feats', 'cat_feats'],\n",
    "                                   outputCol = 'features')\n",
    "    \n",
    "    #combine pipeline components\n",
    "    pipeline = Pipeline(stages = [vect_cts, vect_bucket, indexed, onehot_feats, vect_cat, combined_vect, model])\n",
    "    return pipeline\n",
    "\n",
    "    \n",
    "def gen_model_pipeline(model_type, param_dict, cts_features, cat_features, bucket_features = None):\n",
    "    '''Input model type and parameters, return model pipeline'''\n",
    "    \n",
    "    #still need to create dict with parameters for each model\n",
    "    params = param_dict[model_type]\n",
    "    if model_type == 'lr':\n",
    "        lr = LogisticRegression(regParam = params['regParam']\n",
    "                                #,weightCol = 'label_weight'\n",
    "                               )\n",
    "        pipeline = lr_pipeline(lr, cts_features, cat_features, bucket_features)\n",
    "    \n",
    "    elif model_type == 'gbt':\n",
    "        gbt = GBTClassifier(maxDepth = params['maxDepth'],\n",
    "                           maxBins = params['maxBins'],\n",
    "                           maxIter = params['maxIter'],\n",
    "                           stepSize = params['stepSize'])\n",
    "        pipeline = tree_pipeline(gbt, cts_features, cat_features, bucket_features)\n",
    "    \n",
    "    elif model_type == 'xgb':\n",
    "\n",
    "        xgb = XgboostClassifier(labelCol = 'label',\n",
    "                                featuresCol = 'features',\n",
    "                                missing = 0.0,\n",
    "                                rawPredictionCol = 'probability',\n",
    "                                #booster = params['booster'], #defaults to gbtree\n",
    "                                max_depth = params['max_depth'],\n",
    "                                n_estimators = params['n_estimators'],\n",
    "                                reg_lambda = params['reg_lambda'],\n",
    "                                reg_alpha = params['reg_alpha'],\n",
    "                                objective = params['objective'],\n",
    "                                base_score = params['base_score'],\n",
    "                                gamma = params['gamma'],\n",
    "                                scale_pos_weight = params['scale_pos_weight'],\n",
    "                                min_child_weight = params['min_child_weight'],\n",
    "                                #max_delta_step = params['max_delta_step'],\n",
    "                                learning_rate = params['learning_rate'],\n",
    "                                max_bin = params['max_bin']\n",
    "                               )\n",
    "        \n",
    "        pipeline = tree_pipeline(xgb, cts_features, cat_features, bucket_features)\n",
    "        \n",
    "    return pipeline\n",
    "\n",
    "\n",
    "\n",
    "\n",
    "def fit_model(train_df, model_type, param_dict, cts_features, cat_features, bucket_features = None, balance_type = 'up', pipeline = None):\n",
    "    ''' Balance train_df, generate model pipeline using best params, train model'''\n",
    "    \n",
    "    #balance train_df\n",
    "    if balance_type == 'up':\n",
    "        train_df = balance_trainset(train_df, up_or_down = 'up').persist(StorageLevel.MEMORY_AND_DISK)\n",
    "    elif balance_type == 'down':\n",
    "        train_df = balance_trainset(train_df, up_or_down = 'down').persist(StorageLevel.MEMORY_AND_DISK)\n",
    "    elif balance_type == 'weight':\n",
    "        train_df = weight_classes(train_df).persist(StorageLevel.MEMORY_AND_DISK)\n",
    "    #elif balance_type == None:\n",
    "        #train_df = train_df.persist(StorageLevel.MEMORY_AND_DISK)\n",
    "    #print('Train dataset balancing complete')  \n",
    "    \n",
    "    #gen model pipeline using best params (need to find thru CV)\n",
    "    #params = param_dict[model_type]\n",
    "    if pipeline == None:\n",
    "        pipeline = gen_model_pipeline(model_type, param_dict, cts_features, cat_features, bucket_features)\n",
    "        #print('Pipeline generation complete')\n",
    "    #train model\n",
    "    model = pipeline.fit(train_df)\n",
    "    #print('Training complete')\n",
    "    train_df.unpersist()\n",
    "    return model\n",
    "\n",
    "\n",
    "################# functions for evaluation ######################\n",
    "\n",
    "\n",
    "\n",
    "def eval_p_r_f2(df, acc = True):\n",
    "    pred_rdd = df.select(['prediction', 'label']).rdd\n",
    "    multi_metrics = MulticlassMetrics(pred_rdd)\n",
    "    precision = multi_metrics.precision(1)\n",
    "    recall = multi_metrics.recall(label = 1)\n",
    "    f2 = multi_metrics.fMeasure(1.0,2.0)\n",
    "    if acc:\n",
    "        score =  multi_metrics.accuracy\n",
    "        return(precision, recall, f2, score)\n",
    "    return (precision, recall, f2)\n",
    "  \n",
    "    \n",
    "def extract_prob(v):\n",
    "    '''udf to extract just the positive class probability from a transformed valedation dataframe'''\n",
    "    \n",
    "    try:\n",
    "        return float(v[1])  \n",
    "    except ValueError:\n",
    "        return None\n",
    "    \n",
    "extract_prob_udf = udf(extract_prob, types.DoubleType())\n",
    "\n",
    "def eval_thresholds(val_pred_list, thresholds = [.25,.5,.75]):\n",
    "    '''in: a list of valedation dataframes with predictions as column 'label'\n",
    "        out: dataframe that shows the prediction threshold and associated accuracy metrics\n",
    "    '''\n",
    "    threshold_precisions = []\n",
    "    threshold_recalls = []\n",
    "    threshold_f2s = []\n",
    "    threshold_accuracies = []\n",
    "    \n",
    "    df= val_pred_list[0]\n",
    "    for i in val_pred_list[1:]:\n",
    "        df = df.union(i)\n",
    "\n",
    "    df = df.withColumn('probability', extract_prob_udf('probability'))\n",
    "\n",
    "    for i in thresholds:\n",
    "        curr = df.select(col('probability').cast('float'),col('label').cast('float'))\\\n",
    "               .withColumn('prediction', (col('probability')>=i).cast('float'))\n",
    "            \n",
    "        metrics = eval_p_r_f2(curr, acc = True)\n",
    "        \n",
    "        threshold_precisions.append(metrics[0])\n",
    "        threshold_recalls.append(metrics[1])\n",
    "        threshold_f2s.append(metrics[2])\n",
    "        threshold_accuracies.append(metrics[3])\n",
    "    \n",
    "    out = pd.DataFrame({'threshold': thresholds, \n",
    "                        'precision': threshold_precisions,\n",
    "                        'recall': threshold_recalls,\n",
    "                        'f2':threshold_f2s,    \n",
    "                        'accuracy':threshold_accuracies\n",
    "                        })\n",
    "    return(out)\n",
    "\n"
   ]
  },
  {
   "cell_type": "markdown",
   "metadata": {
    "application/vnd.databricks.v1+cell": {
     "inputWidgets": {},
     "nuid": "b9ce76dc-58c2-4033-9ae4-70795bbd4588",
     "showTitle": false,
     "title": ""
    }
   },
   "source": [
    "###CV/Tuning Helper Functions"
   ]
  },
  {
   "cell_type": "code",
   "execution_count": 0,
   "metadata": {
    "application/vnd.databricks.v1+cell": {
     "inputWidgets": {},
     "nuid": "bfdfc053-424e-4fe3-a326-cf5fff3e02f4",
     "showTitle": false,
     "title": ""
    }
   },
   "outputs": [
    {
     "data": {
      "text/html": [
       "<style scoped>\n",
       "  .ansiout {\n",
       "    display: block;\n",
       "    unicode-bidi: embed;\n",
       "    white-space: pre-wrap;\n",
       "    word-wrap: break-word;\n",
       "    word-break: break-all;\n",
       "    font-family: \"Source Code Pro\", \"Menlo\", monospace;;\n",
       "    font-size: 13px;\n",
       "    color: #555;\n",
       "    margin-left: 4px;\n",
       "    line-height: 19px;\n",
       "  }\n",
       "</style>\n",
       "<div class=\"ansiout\"></div>"
      ]
     },
     "metadata": {
      "application/vnd.databricks.v1+output": {
       "addedWidgets": {},
       "arguments": {},
       "data": "<div class=\"ansiout\"></div>",
       "datasetInfos": [],
       "metadata": {},
       "removedWidgets": [],
       "type": "html"
      }
     },
     "output_type": "display_data"
    }
   ],
   "source": [
    "def gen_param_grid(param_dict):\n",
    "    ''' Create list of all param combinations '''\n",
    "    param_keys = list(param_dict.keys())\n",
    "    param_vals = param_dict.values()\n",
    "    param_combinations = list(itertools.product(*param_vals))\n",
    "    \n",
    "    return (param_keys, param_combinations)\n",
    "\n",
    "\n",
    "def kfold_split(df, n_splits = 5, train_size = .8, balance_type = 'down'):\n",
    "    '''inputs: dataframe, number of splits (train_size), percentage of each fold that should be allocated to training (train_size), which direction to balance label proportions (balance_type)\n",
    "    output: list of n_splits tuples, where each tuple consists of a trainining set and a test set sorted by datetime'''\n",
    "    \n",
    "    w = Window().orderBy('UTC_DEP_TIME')\n",
    "\n",
    "    df = df.withColumn(\"row_num\", F.row_number().over(w))\n",
    "    \n",
    "    kfold_dataframes = []\n",
    "    n_samples = df.count()\n",
    "    k_fold_size = n_samples // n_splits\n",
    "    indices = np.arange(n_samples)\n",
    "\n",
    "    margin = 0\n",
    "    for i in range(n_splits):\n",
    "        start = i * k_fold_size\n",
    "        if i == n_splits-1:\n",
    "            stop = n_samples+1\n",
    "        else:\n",
    "            stop = start + k_fold_size\n",
    "        mid = int(train_size * (stop - start)) + start\n",
    "    \n",
    "        print(f'Fold: {i+1}, Train Start: {start}, Train Stop/ Test Start: {mid}, Test Stop: {stop-1}')\n",
    "        print(f'Fold Size: {stop-start}')\n",
    "        print(f'Train Percentage: {100*(mid-start)/(stop-start):.2f}%')        \n",
    "\n",
    "        train_df = df.filter((col('row_num')>= start)&(col('row_num')< mid))\n",
    "        #balance classes in train_df\n",
    "        train_df = balance_trainset(train_df, balance_type)\n",
    "        \n",
    "        test_df = df.filter((col('row_num')>= mid)&(col('row_num')< stop))\n",
    "        kfold_dataframes.append([train_df, test_df])\n",
    "        print('=========================')\n",
    "\n",
    "    return(kfold_dataframes)\n",
    "\n",
    "\n",
    "\n",
    "def param_opt_cv(df_list, test_param_dict, model_type, cts_features, cat_features, bucket_features = None, balance_type = 'down'):\n",
    "       \n",
    "    print(f'Number of folds: {len(df_list)}')\n",
    "    \n",
    "    #initialize lists to track results (select best at end based on max of score list)\n",
    "    precision_list = []\n",
    "    recall_list = []\n",
    "    f2_list = []\n",
    "    test_params = []\n",
    "\n",
    "    #call param grid function to get list of all param combinations to test\n",
    "    param_grid = gen_param_grid(test_param_dict[model_type])\n",
    "    print(f'Num parameter combinations to test: {len(param_grid[1])}')\n",
    "\n",
    "    for params in param_grid[1]:\n",
    "        \n",
    "        #initialize lists for param set to take avg at end \n",
    "        ps_precision = []\n",
    "        ps_recall = []\n",
    "        ps_f2 = []\n",
    "\n",
    "        #create param dict for input to pipeline gen function\n",
    "        param_dict = {p[0]:p[1] for p in zip(param_grid[0],params)}\n",
    "        print(f'Testing params: {param_dict}')\n",
    "        \n",
    "        #add params to full list for tracking\n",
    "        test_params.append(param_dict)\n",
    "        \n",
    "        #create pipeline with params (set dict structure to match input to gen_model_pipeline with model type as key)\n",
    "        pipeline = gen_model_pipeline(model_type, {model_type:param_dict}, cts_features, cat_features, bucket_features = bucket_features)\n",
    "        \n",
    "        for df in df_list: #get train df\n",
    "            train_fold, val_fold = df[0], df[1]\n",
    "            \n",
    "            train_fold = train_fold.persist()\n",
    " \n",
    "            \n",
    "            model = fit_model(train_fold, model_type, param_dict, cts_features, cat_features, balance_type = None, bucket_features = bucket_features, pipeline = pipeline)\n",
    "            \n",
    "            val_pred = model.transform(val_fold)\n",
    "            #evaluate\n",
    "            metrics = eval_p_r_f2(val_pred)\n",
    "            ps_precision.append(metrics[0])\n",
    "            ps_recall.append(metrics[1])\n",
    "            ps_f2.append(metrics[2])\n",
    "            #print('Evaluation done')\n",
    "\n",
    "        #take mean across folds for param set\n",
    "        precision_list.append(np.mean(ps_precision))\n",
    "        recall_list.append(np.mean(ps_recall))\n",
    "        f2_list.append(np.mean(ps_f2))\n",
    "            \n",
    "    metrics_df = pd.DataFrame(list(zip(test_params, f2_list, precision_list, recall_list)), columns = ['Params','F2','Precision','Recall'])\n",
    "        \n",
    "    print(f'Optimal parameters:',metrics_df.loc[metrics_df['F2'].idxmax()])\n",
    "    return metrics_df\n",
    "        \n"
   ]
  },
  {
   "cell_type": "markdown",
   "metadata": {
    "application/vnd.databricks.v1+cell": {
     "inputWidgets": {},
     "nuid": "4740d263-ba3a-44df-a96d-193e0292e18f",
     "showTitle": false,
     "title": ""
    }
   },
   "source": [
    "## Baseline models\n",
    "All with 5-fold CV"
   ]
  },
  {
   "cell_type": "code",
   "execution_count": 0,
   "metadata": {
    "application/vnd.databricks.v1+cell": {
     "inputWidgets": {},
     "nuid": "ab1b190d-3612-49a0-832e-87417a90dac5",
     "showTitle": false,
     "title": ""
    }
   },
   "outputs": [
    {
     "data": {
      "text/html": [
       "<style scoped>\n",
       "  .ansiout {\n",
       "    display: block;\n",
       "    unicode-bidi: embed;\n",
       "    white-space: pre-wrap;\n",
       "    word-wrap: break-word;\n",
       "    word-break: break-all;\n",
       "    font-family: \"Source Code Pro\", \"Menlo\", monospace;;\n",
       "    font-size: 13px;\n",
       "    color: #555;\n",
       "    margin-left: 4px;\n",
       "    line-height: 19px;\n",
       "  }\n",
       "</style>\n",
       "<div class=\"ansiout\"></div>"
      ]
     },
     "metadata": {
      "application/vnd.databricks.v1+output": {
       "addedWidgets": {},
       "arguments": {},
       "data": "<div class=\"ansiout\"></div>",
       "datasetInfos": [],
       "metadata": {},
       "removedWidgets": [],
       "type": "html"
      }
     },
     "output_type": "display_data"
    }
   ],
   "source": [
    "df_list = load_data(prefolded = True, limited_features = False)"
   ]
  },
  {
   "cell_type": "code",
   "execution_count": 0,
   "metadata": {
    "application/vnd.databricks.v1+cell": {
     "inputWidgets": {},
     "nuid": "e1f21e35-56f1-494e-a03a-9a6bc99783ba",
     "showTitle": false,
     "title": ""
    }
   },
   "outputs": [
    {
     "data": {
      "text/html": [
       "<style scoped>\n",
       "  .ansiout {\n",
       "    display: block;\n",
       "    unicode-bidi: embed;\n",
       "    white-space: pre-wrap;\n",
       "    word-wrap: break-word;\n",
       "    word-break: break-all;\n",
       "    font-family: \"Source Code Pro\", \"Menlo\", monospace;;\n",
       "    font-size: 13px;\n",
       "    color: #555;\n",
       "    margin-left: 4px;\n",
       "    line-height: 19px;\n",
       "  }\n",
       "</style>\n",
       "<div class=\"ansiout\"></div>"
      ]
     },
     "metadata": {
      "application/vnd.databricks.v1+output": {
       "addedWidgets": {},
       "arguments": {},
       "data": "<div class=\"ansiout\"></div>",
       "datasetInfos": [],
       "metadata": {},
       "removedWidgets": [],
       "type": "html"
      }
     },
     "output_type": "display_data"
    }
   ],
   "source": [
    "cts_vars = ['PRE_FL_WINDOW','CUMAVG_WND_DIR_WEEKLY','CUMAVG_DEW_WEEKLY','CUMAVG_VIS_WEEKLY','CUMAVG_SLP_WEEKLY','CUMAVG_WND_SPEED_WEEKLY','CUMAVG_CEIL_HEIGHT_WEEKLY','CUMAVG_AIR_TMP_WEEKLY','CUMAVG_DEP_DELAY_WEEKLY','CUMAVG_DEP_DEL15_WEEKLY','CUMAVG_ARR_DELAY_WEEKLY','CUMAVG_ARR_DEL15_WEEKLY']\n",
    "\n",
    "cat_vars = ['ORIGIN','YEAR','QUARTER','DEST','MONTH','DAY_OF_WEEK','OP_CARRIER','PRIOR_ARR_DEL','PRIOR_DEP_DEL','ORIG_DEST']\n",
    "\n",
    "bucket_vars = ['ORIG_FPD','DEST_FPD','VIS','AIR_TMP','DISTANCE','PCT_CARRIER_DEL','PCT_ROUTE_DEL','PCT_ORIG_DEL','PCT_DEST_DEL']\n"
   ]
  },
  {
   "cell_type": "markdown",
   "metadata": {
    "application/vnd.databricks.v1+cell": {
     "inputWidgets": {},
     "nuid": "4fcf1880-485a-4b62-a118-b65e90c7d417",
     "showTitle": false,
     "title": ""
    }
   },
   "source": [
    "##### Logistic Regression"
   ]
  },
  {
   "cell_type": "code",
   "execution_count": 0,
   "metadata": {
    "application/vnd.databricks.v1+cell": {
     "inputWidgets": {},
     "nuid": "40dc7283-9f10-4a97-8710-8911bbb06cd4",
     "showTitle": false,
     "title": ""
    }
   },
   "outputs": [
    {
     "data": {
      "text/html": [
       "<style scoped>\n",
       "  .ansiout {\n",
       "    display: block;\n",
       "    unicode-bidi: embed;\n",
       "    white-space: pre-wrap;\n",
       "    word-wrap: break-word;\n",
       "    word-break: break-all;\n",
       "    font-family: \"Source Code Pro\", \"Menlo\", monospace;;\n",
       "    font-size: 13px;\n",
       "    color: #555;\n",
       "    margin-left: 4px;\n",
       "    line-height: 19px;\n",
       "  }\n",
       "</style>\n",
       "<div class=\"ansiout\">Number of folds: 5\n",
       "Num parameter combinations to test: 1\n",
       "Testing params: {&#39;regParam&#39;: 0.1, &#39;elasticNetParam&#39;: 0.8}\n",
       "Optimal parameters: Params       {&#39;regParam&#39;: 0.1, &#39;elasticNetParam&#39;: 0.8}\n",
       "F2                                            0.512082\n",
       "Precision                                     0.321192\n",
       "Recall                                        0.615537\n",
       "Name: 0, dtype: object\n",
       "</div>"
      ]
     },
     "metadata": {
      "application/vnd.databricks.v1+output": {
       "addedWidgets": {},
       "arguments": {},
       "data": "<div class=\"ansiout\">Number of folds: 5\nNum parameter combinations to test: 1\nTesting params: {&#39;regParam&#39;: 0.1, &#39;elasticNetParam&#39;: 0.8}\nOptimal parameters: Params       {&#39;regParam&#39;: 0.1, &#39;elasticNetParam&#39;: 0.8}\nF2                                            0.512082\nPrecision                                     0.321192\nRecall                                        0.615537\nName: 0, dtype: object\n</div>",
       "datasetInfos": [],
       "metadata": {},
       "removedWidgets": [],
       "type": "html"
      }
     },
     "output_type": "display_data"
    }
   ],
   "source": [
    "param_dict1 = {'lr':{'regParam':[0.1],\n",
    "                     'elasticNetParam': [0.8]}}\n",
    "\n",
    "lr_baseline = param_opt_cv(df_list, \n",
    "                           param_dict1, \n",
    "                           model_type = 'lr',\n",
    "                           cts_features = cts_vars,\n",
    "                           cat_features = cat_vars,\n",
    "                           bucket_features = bucket_vars,\n",
    "                           balance_type = 'down')"
   ]
  },
  {
   "cell_type": "markdown",
   "metadata": {
    "application/vnd.databricks.v1+cell": {
     "inputWidgets": {},
     "nuid": "832cb2ef-e522-47b6-8609-404b75215254",
     "showTitle": false,
     "title": ""
    }
   },
   "source": [
    "##### GBT Classifier Baseline"
   ]
  },
  {
   "cell_type": "code",
   "execution_count": 0,
   "metadata": {
    "application/vnd.databricks.v1+cell": {
     "inputWidgets": {},
     "nuid": "05c79492-42c4-49ab-a78a-3e4ebb3d3317",
     "showTitle": false,
     "title": ""
    }
   },
   "outputs": [
    {
     "data": {
      "text/html": [
       "<style scoped>\n",
       "  .ansiout {\n",
       "    display: block;\n",
       "    unicode-bidi: embed;\n",
       "    white-space: pre-wrap;\n",
       "    word-wrap: break-word;\n",
       "    word-break: break-all;\n",
       "    font-family: \"Source Code Pro\", \"Menlo\", monospace;;\n",
       "    font-size: 13px;\n",
       "    color: #555;\n",
       "    margin-left: 4px;\n",
       "    line-height: 19px;\n",
       "  }\n",
       "</style>\n",
       "<div class=\"ansiout\">Number of folds: 5\n",
       "Num parameter combinations to test: 1\n",
       "Testing params: {&#39;maxDepth&#39;: 7, &#39;maxBins&#39;: 250, &#39;maxIter&#39;: 6, &#39;stepSize&#39;: 0.3}\n",
       "Optimal parameters: Params       {&#39;maxDepth&#39;: 7, &#39;maxBins&#39;: 250, &#39;maxIter&#39;: 6, ...\n",
       "F2                                                    0.573842\n",
       "Precision                                             0.323168\n",
       "Recall                                                0.723555\n",
       "Name: 0, dtype: object\n",
       "</div>"
      ]
     },
     "metadata": {
      "application/vnd.databricks.v1+output": {
       "addedWidgets": {},
       "arguments": {},
       "data": "<div class=\"ansiout\">Number of folds: 5\nNum parameter combinations to test: 1\nTesting params: {&#39;maxDepth&#39;: 7, &#39;maxBins&#39;: 250, &#39;maxIter&#39;: 6, &#39;stepSize&#39;: 0.3}\nOptimal parameters: Params       {&#39;maxDepth&#39;: 7, &#39;maxBins&#39;: 250, &#39;maxIter&#39;: 6, ...\nF2                                                    0.573842\nPrecision                                             0.323168\nRecall                                                0.723555\nName: 0, dtype: object\n</div>",
       "datasetInfos": [],
       "metadata": {},
       "removedWidgets": [],
       "type": "html"
      }
     },
     "output_type": "display_data"
    }
   ],
   "source": [
    "#test performance of bucketed FPD vars (vs. continuous, above)\n",
    "param_dict2 = {'gbt':{'maxDepth':[7],\n",
    "                      'maxBins':[250],\n",
    "                      'maxIter':[6],\n",
    "                      'stepSize':[0.3]}}\n",
    "\n",
    "gbt_baseline = param_opt_cv(df_list,\n",
    "                            param_dict2,\n",
    "                            model_type = 'gbt',\n",
    "                            cts_features = cts_vars,\n",
    "                            cat_features = cat_vars,\n",
    "                            bucket_features = bucket_vars,\n",
    "                            balance_type = 'down')"
   ]
  },
  {
   "cell_type": "markdown",
   "metadata": {
    "application/vnd.databricks.v1+cell": {
     "inputWidgets": {},
     "nuid": "7530ad63-3140-4a06-b238-38c6e0ea7ce5",
     "showTitle": false,
     "title": ""
    }
   },
   "source": [
    "##### XGBoost Baseline \n",
    "[XGBoost parameter info](https://xgboost.readthedocs.io/en/stable/parameter.html)"
   ]
  },
  {
   "cell_type": "code",
   "execution_count": 0,
   "metadata": {
    "application/vnd.databricks.v1+cell": {
     "inputWidgets": {},
     "nuid": "e13963b9-15c4-4a8b-acd8-d3c185773a62",
     "showTitle": false,
     "title": ""
    }
   },
   "outputs": [
    {
     "data": {
      "text/html": [
       "<style scoped>\n",
       "  .ansiout {\n",
       "    display: block;\n",
       "    unicode-bidi: embed;\n",
       "    white-space: pre-wrap;\n",
       "    word-wrap: break-word;\n",
       "    word-break: break-all;\n",
       "    font-family: \"Source Code Pro\", \"Menlo\", monospace;;\n",
       "    font-size: 13px;\n",
       "    color: #555;\n",
       "    margin-left: 4px;\n",
       "    line-height: 19px;\n",
       "  }\n",
       "</style>\n",
       "<div class=\"ansiout\">Number of folds: 5\n",
       "Num parameter combinations to test: 1\n",
       "Testing params: {&#39;max_depth&#39;: 6, &#39;n_estimators&#39;: 125, &#39;reg_lambda&#39;: 1, &#39;reg_alpha&#39;: 0.1, &#39;tree_method&#39;: &#39;hist&#39;, &#39;objective&#39;: &#39;binary:logistic&#39;, &#39;base_score&#39;: 0.5, &#39;gamma&#39;: 0.05, &#39;min_child_weight&#39;: 1.5, &#39;max_bin&#39;: 100, &#39;learning_rate&#39;: 0.3}\n",
       "Optimal parameters: Params       {&#39;max_depth&#39;: 6, &#39;n_estimators&#39;: 125, &#39;reg_lam...\n",
       "F2                                                    0.582971\n",
       "Precision                                             0.329748\n",
       "Recall                                                0.732147\n",
       "Name: 0, dtype: object\n",
       "</div>"
      ]
     },
     "metadata": {
      "application/vnd.databricks.v1+output": {
       "addedWidgets": {},
       "arguments": {},
       "data": "<div class=\"ansiout\">Number of folds: 5\nNum parameter combinations to test: 1\nTesting params: {&#39;max_depth&#39;: 6, &#39;n_estimators&#39;: 125, &#39;reg_lambda&#39;: 1, &#39;reg_alpha&#39;: 0.1, &#39;tree_method&#39;: &#39;hist&#39;, &#39;objective&#39;: &#39;binary:logistic&#39;, &#39;base_score&#39;: 0.5, &#39;gamma&#39;: 0.05, &#39;min_child_weight&#39;: 1.5, &#39;max_bin&#39;: 100, &#39;learning_rate&#39;: 0.3}\nOptimal parameters: Params       {&#39;max_depth&#39;: 6, &#39;n_estimators&#39;: 125, &#39;reg_lam...\nF2                                                    0.582971\nPrecision                                             0.329748\nRecall                                                0.732147\nName: 0, dtype: object\n</div>",
       "datasetInfos": [],
       "metadata": {},
       "removedWidgets": [],
       "type": "html"
      }
     },
     "output_type": "display_data"
    }
   ],
   "source": [
    "#test performance of bucketed FPD vars\n",
    "param_dict3 = {'xgb':{'max_depth':[6],\n",
    "                      'n_estimators':[125],\n",
    "                      'reg_lambda':[1],\n",
    "                      'reg_alpha':[0.1],\n",
    "                      'tree_method':['hist'],\n",
    "                      'objective':['binary:logistic'],\n",
    "                      'base_score':[0.5],\n",
    "                      'gamma':[0.05],\n",
    "                      'min_child_weight':[1.5],\n",
    "                      'max_bin': [100],\n",
    "                      'learning_rate' : [0.3]}}\n",
    "\n",
    "xgb_baseline = param_opt_cv(df_list,\n",
    "                            param_dict3,\n",
    "                            model_type = 'xgb',\n",
    "                            cts_features = cts_vars,\n",
    "                            cat_features = cat_vars,\n",
    "                            bucket_features = bucket_vars,\n",
    "                            balance_type = 'down')"
   ]
  },
  {
   "cell_type": "markdown",
   "metadata": {
    "application/vnd.databricks.v1+cell": {
     "inputWidgets": {},
     "nuid": "2f5ed92d-0c9a-4753-9080-a8b7f0037268",
     "showTitle": false,
     "title": ""
    }
   },
   "source": [
    "### Grid Search Hyperparameter Tuning with Cross Validation"
   ]
  },
  {
   "cell_type": "markdown",
   "metadata": {
    "application/vnd.databricks.v1+cell": {
     "inputWidgets": {},
     "nuid": "db9b4adb-05d9-4c64-97a2-f161175cf9d3",
     "showTitle": false,
     "title": ""
    }
   },
   "source": [
    "##### GBT Classifier Hyperparameter Tuning"
   ]
  },
  {
   "cell_type": "code",
   "execution_count": 0,
   "metadata": {
    "application/vnd.databricks.v1+cell": {
     "inputWidgets": {},
     "nuid": "c2d30674-0ae2-471d-a066-ac221cf87045",
     "showTitle": false,
     "title": ""
    }
   },
   "outputs": [
    {
     "data": {
      "text/html": [
       "<style scoped>\n",
       "  .ansiout {\n",
       "    display: block;\n",
       "    unicode-bidi: embed;\n",
       "    white-space: pre-wrap;\n",
       "    word-wrap: break-word;\n",
       "    word-break: break-all;\n",
       "    font-family: \"Source Code Pro\", \"Menlo\", monospace;;\n",
       "    font-size: 13px;\n",
       "    color: #555;\n",
       "    margin-left: 4px;\n",
       "    line-height: 19px;\n",
       "  }\n",
       "</style>\n",
       "<div class=\"ansiout\">Number of folds: 5\n",
       "Num parameter combinations to test: 4\n",
       "Testing params: {&#39;maxDepth&#39;: 6, &#39;maxBins&#39;: 250, &#39;maxIter&#39;: 6, &#39;stepSize&#39;: 0.2}\n",
       "Testing params: {&#39;maxDepth&#39;: 6, &#39;maxBins&#39;: 300, &#39;maxIter&#39;: 6, &#39;stepSize&#39;: 0.2}\n",
       "Testing params: {&#39;maxDepth&#39;: 9, &#39;maxBins&#39;: 250, &#39;maxIter&#39;: 6, &#39;stepSize&#39;: 0.2}\n",
       "Testing params: {&#39;maxDepth&#39;: 9, &#39;maxBins&#39;: 300, &#39;maxIter&#39;: 6, &#39;stepSize&#39;: 0.2}\n",
       "Optimal parameters: Params       {&#39;maxDepth&#39;: 9, &#39;maxBins&#39;: 300, &#39;maxIter&#39;: 6, ...\n",
       "F2                                                    0.578219\n",
       "Precision                                             0.323277\n",
       "Recall                                                0.727845\n",
       "Name: 3, dtype: object\n",
       "</div>"
      ]
     },
     "metadata": {
      "application/vnd.databricks.v1+output": {
       "addedWidgets": {},
       "arguments": {},
       "data": "<div class=\"ansiout\">Number of folds: 5\nNum parameter combinations to test: 4\nTesting params: {&#39;maxDepth&#39;: 6, &#39;maxBins&#39;: 250, &#39;maxIter&#39;: 6, &#39;stepSize&#39;: 0.2}\nTesting params: {&#39;maxDepth&#39;: 6, &#39;maxBins&#39;: 300, &#39;maxIter&#39;: 6, &#39;stepSize&#39;: 0.2}\nTesting params: {&#39;maxDepth&#39;: 9, &#39;maxBins&#39;: 250, &#39;maxIter&#39;: 6, &#39;stepSize&#39;: 0.2}\nTesting params: {&#39;maxDepth&#39;: 9, &#39;maxBins&#39;: 300, &#39;maxIter&#39;: 6, &#39;stepSize&#39;: 0.2}\nOptimal parameters: Params       {&#39;maxDepth&#39;: 9, &#39;maxBins&#39;: 300, &#39;maxIter&#39;: 6, ...\nF2                                                    0.578219\nPrecision                                             0.323277\nRecall                                                0.727845\nName: 3, dtype: object\n</div>",
       "datasetInfos": [],
       "metadata": {},
       "removedWidgets": [],
       "type": "html"
      }
     },
     "output_type": "display_data"
    }
   ],
   "source": [
    "param_dict4 = {'gbt':{'maxDepth':[6,9],\n",
    "                      'maxBins':[250,300],\n",
    "                      'maxIter':[6],\n",
    "                      'stepSize':[0.2]}}\n",
    "\n",
    "gbt_opt = param_opt_cv(df_list,\n",
    "                       param_dict4,\n",
    "                       model_type = 'gbt',\n",
    "                       cts_features = cts_vars,\n",
    "                       cat_features = cat_vars,\n",
    "                       bucket_features = bucket_vars,\n",
    "                       balance_type = 'down')"
   ]
  },
  {
   "cell_type": "code",
   "execution_count": 0,
   "metadata": {
    "application/vnd.databricks.v1+cell": {
     "inputWidgets": {},
     "nuid": "3f27063a-119b-41c9-aa20-7cf58eb8ee2a",
     "showTitle": false,
     "title": ""
    }
   },
   "outputs": [
    {
     "data": {
      "text/html": [
       "<style scoped>\n",
       "  .ansiout {\n",
       "    display: block;\n",
       "    unicode-bidi: embed;\n",
       "    white-space: pre-wrap;\n",
       "    word-wrap: break-word;\n",
       "    word-break: break-all;\n",
       "    font-family: \"Source Code Pro\", \"Menlo\", monospace;;\n",
       "    font-size: 13px;\n",
       "    color: #555;\n",
       "    margin-left: 4px;\n",
       "    line-height: 19px;\n",
       "  }\n",
       "</style>\n",
       "<div class=\"ansiout\">Out[43]: </div>"
      ]
     },
     "metadata": {
      "application/vnd.databricks.v1+output": {
       "addedWidgets": {},
       "arguments": {},
       "data": "<div class=\"ansiout\">Out[43]: </div>",
       "datasetInfos": [],
       "metadata": {},
       "removedWidgets": [],
       "type": "html"
      }
     },
     "output_type": "display_data"
    },
    {
     "data": {
      "text/html": [
       "<div>\n",
       "<style scoped>\n",
       "    .dataframe tbody tr th:only-of-type {\n",
       "        vertical-align: middle;\n",
       "    }\n",
       "\n",
       "    .dataframe tbody tr th {\n",
       "        vertical-align: top;\n",
       "    }\n",
       "\n",
       "    .dataframe thead th {\n",
       "        text-align: right;\n",
       "    }\n",
       "</style>\n",
       "<table border=\"1\" class=\"dataframe\">\n",
       "  <thead>\n",
       "    <tr style=\"text-align: right;\">\n",
       "      <th></th>\n",
       "      <th>Params</th>\n",
       "      <th>F2</th>\n",
       "      <th>Precision</th>\n",
       "      <th>Recall</th>\n",
       "    </tr>\n",
       "  </thead>\n",
       "  <tbody>\n",
       "    <tr>\n",
       "      <th>0</th>\n",
       "      <td>{'maxDepth': 6, 'maxBins': 250, 'maxIter': 6, ...</td>\n",
       "      <td>0.573545</td>\n",
       "      <td>0.319713</td>\n",
       "      <td>0.725539</td>\n",
       "    </tr>\n",
       "    <tr>\n",
       "      <th>1</th>\n",
       "      <td>{'maxDepth': 6, 'maxBins': 300, 'maxIter': 6, ...</td>\n",
       "      <td>0.574780</td>\n",
       "      <td>0.318967</td>\n",
       "      <td>0.728463</td>\n",
       "    </tr>\n",
       "    <tr>\n",
       "      <th>2</th>\n",
       "      <td>{'maxDepth': 9, 'maxBins': 250, 'maxIter': 6, ...</td>\n",
       "      <td>0.576526</td>\n",
       "      <td>0.324444</td>\n",
       "      <td>0.723345</td>\n",
       "    </tr>\n",
       "    <tr>\n",
       "      <th>3</th>\n",
       "      <td>{'maxDepth': 9, 'maxBins': 300, 'maxIter': 6, ...</td>\n",
       "      <td>0.578219</td>\n",
       "      <td>0.323277</td>\n",
       "      <td>0.727845</td>\n",
       "    </tr>\n",
       "  </tbody>\n",
       "</table>\n",
       "</div>"
      ]
     },
     "metadata": {
      "application/vnd.databricks.v1+output": {
       "addedWidgets": {},
       "arguments": {},
       "data": "<div>\n<style scoped>\n    .dataframe tbody tr th:only-of-type {\n        vertical-align: middle;\n    }\n\n    .dataframe tbody tr th {\n        vertical-align: top;\n    }\n\n    .dataframe thead th {\n        text-align: right;\n    }\n</style>\n<table border=\"1\" class=\"dataframe\">\n  <thead>\n    <tr style=\"text-align: right;\">\n      <th></th>\n      <th>Params</th>\n      <th>F2</th>\n      <th>Precision</th>\n      <th>Recall</th>\n    </tr>\n  </thead>\n  <tbody>\n    <tr>\n      <th>0</th>\n      <td>{'maxDepth': 6, 'maxBins': 250, 'maxIter': 6, ...</td>\n      <td>0.573545</td>\n      <td>0.319713</td>\n      <td>0.725539</td>\n    </tr>\n    <tr>\n      <th>1</th>\n      <td>{'maxDepth': 6, 'maxBins': 300, 'maxIter': 6, ...</td>\n      <td>0.574780</td>\n      <td>0.318967</td>\n      <td>0.728463</td>\n    </tr>\n    <tr>\n      <th>2</th>\n      <td>{'maxDepth': 9, 'maxBins': 250, 'maxIter': 6, ...</td>\n      <td>0.576526</td>\n      <td>0.324444</td>\n      <td>0.723345</td>\n    </tr>\n    <tr>\n      <th>3</th>\n      <td>{'maxDepth': 9, 'maxBins': 300, 'maxIter': 6, ...</td>\n      <td>0.578219</td>\n      <td>0.323277</td>\n      <td>0.727845</td>\n    </tr>\n  </tbody>\n</table>\n</div>",
       "datasetInfos": [],
       "metadata": {},
       "removedWidgets": [],
       "textData": null,
       "type": "htmlSandbox"
      }
     },
     "output_type": "display_data"
    }
   ],
   "source": [
    "gbt_opt"
   ]
  },
  {
   "cell_type": "markdown",
   "metadata": {
    "application/vnd.databricks.v1+cell": {
     "inputWidgets": {},
     "nuid": "e9f90db0-86ce-4dd3-be79-b5fa7d6b0677",
     "showTitle": false,
     "title": ""
    }
   },
   "source": [
    "##### XGBoost Hyperparameter Tuning\n",
    "Iteration 1"
   ]
  },
  {
   "cell_type": "code",
   "execution_count": 0,
   "metadata": {
    "application/vnd.databricks.v1+cell": {
     "inputWidgets": {},
     "nuid": "44096f1f-ee87-4f84-9ff4-e73603ca45ee",
     "showTitle": false,
     "title": ""
    }
   },
   "outputs": [
    {
     "data": {
      "text/html": [
       "<style scoped>\n",
       "  .ansiout {\n",
       "    display: block;\n",
       "    unicode-bidi: embed;\n",
       "    white-space: pre-wrap;\n",
       "    word-wrap: break-word;\n",
       "    word-break: break-all;\n",
       "    font-family: \"Source Code Pro\", \"Menlo\", monospace;;\n",
       "    font-size: 13px;\n",
       "    color: #555;\n",
       "    margin-left: 4px;\n",
       "    line-height: 19px;\n",
       "  }\n",
       "</style>\n",
       "<div class=\"ansiout\">Number of folds: 5\n",
       "Num parameter combinations to test: 16\n",
       "Testing params: {&#39;max_depth&#39;: 6, &#39;n_estimators&#39;: 150, &#39;reg_lambda&#39;: 0.5, &#39;reg_alpha&#39;: 0.1, &#39;tree_method&#39;: &#39;hist&#39;, &#39;objective&#39;: &#39;binary:logistic&#39;, &#39;base_score&#39;: 0.5, &#39;gamma&#39;: 0, &#39;min_child_weight&#39;: 1.5, &#39;max_bin&#39;: 100, &#39;learning_rate&#39;: 0.2}\n",
       "Testing params: {&#39;max_depth&#39;: 6, &#39;n_estimators&#39;: 150, &#39;reg_lambda&#39;: 0.5, &#39;reg_alpha&#39;: 0.1, &#39;tree_method&#39;: &#39;hist&#39;, &#39;objective&#39;: &#39;binary:logistic&#39;, &#39;base_score&#39;: 0.5, &#39;gamma&#39;: 0, &#39;min_child_weight&#39;: 1.5, &#39;max_bin&#39;: 100, &#39;learning_rate&#39;: 0.3}\n",
       "Testing params: {&#39;max_depth&#39;: 6, &#39;n_estimators&#39;: 150, &#39;reg_lambda&#39;: 0.5, &#39;reg_alpha&#39;: 0.1, &#39;tree_method&#39;: &#39;hist&#39;, &#39;objective&#39;: &#39;binary:logistic&#39;, &#39;base_score&#39;: 0.5, &#39;gamma&#39;: 0.05, &#39;min_child_weight&#39;: 1.5, &#39;max_bin&#39;: 100, &#39;learning_rate&#39;: 0.2}\n",
       "Testing params: {&#39;max_depth&#39;: 6, &#39;n_estimators&#39;: 150, &#39;reg_lambda&#39;: 0.5, &#39;reg_alpha&#39;: 0.1, &#39;tree_method&#39;: &#39;hist&#39;, &#39;objective&#39;: &#39;binary:logistic&#39;, &#39;base_score&#39;: 0.5, &#39;gamma&#39;: 0.05, &#39;min_child_weight&#39;: 1.5, &#39;max_bin&#39;: 100, &#39;learning_rate&#39;: 0.3}\n",
       "Testing params: {&#39;max_depth&#39;: 6, &#39;n_estimators&#39;: 150, &#39;reg_lambda&#39;: 0.5, &#39;reg_alpha&#39;: 0.5, &#39;tree_method&#39;: &#39;hist&#39;, &#39;objective&#39;: &#39;binary:logistic&#39;, &#39;base_score&#39;: 0.5, &#39;gamma&#39;: 0, &#39;min_child_weight&#39;: 1.5, &#39;max_bin&#39;: 100, &#39;learning_rate&#39;: 0.2}\n",
       "Testing params: {&#39;max_depth&#39;: 6, &#39;n_estimators&#39;: 150, &#39;reg_lambda&#39;: 0.5, &#39;reg_alpha&#39;: 0.5, &#39;tree_method&#39;: &#39;hist&#39;, &#39;objective&#39;: &#39;binary:logistic&#39;, &#39;base_score&#39;: 0.5, &#39;gamma&#39;: 0, &#39;min_child_weight&#39;: 1.5, &#39;max_bin&#39;: 100, &#39;learning_rate&#39;: 0.3}\n",
       "Testing params: {&#39;max_depth&#39;: 6, &#39;n_estimators&#39;: 150, &#39;reg_lambda&#39;: 0.5, &#39;reg_alpha&#39;: 0.5, &#39;tree_method&#39;: &#39;hist&#39;, &#39;objective&#39;: &#39;binary:logistic&#39;, &#39;base_score&#39;: 0.5, &#39;gamma&#39;: 0.05, &#39;min_child_weight&#39;: 1.5, &#39;max_bin&#39;: 100, &#39;learning_rate&#39;: 0.2}\n",
       "Testing params: {&#39;max_depth&#39;: 6, &#39;n_estimators&#39;: 150, &#39;reg_lambda&#39;: 0.5, &#39;reg_alpha&#39;: 0.5, &#39;tree_method&#39;: &#39;hist&#39;, &#39;objective&#39;: &#39;binary:logistic&#39;, &#39;base_score&#39;: 0.5, &#39;gamma&#39;: 0.05, &#39;min_child_weight&#39;: 1.5, &#39;max_bin&#39;: 100, &#39;learning_rate&#39;: 0.3}\n",
       "Testing params: {&#39;max_depth&#39;: 6, &#39;n_estimators&#39;: 150, &#39;reg_lambda&#39;: 1, &#39;reg_alpha&#39;: 0.1, &#39;tree_method&#39;: &#39;hist&#39;, &#39;objective&#39;: &#39;binary:logistic&#39;, &#39;base_score&#39;: 0.5, &#39;gamma&#39;: 0, &#39;min_child_weight&#39;: 1.5, &#39;max_bin&#39;: 100, &#39;learning_rate&#39;: 0.2}\n",
       "Testing params: {&#39;max_depth&#39;: 6, &#39;n_estimators&#39;: 150, &#39;reg_lambda&#39;: 1, &#39;reg_alpha&#39;: 0.1, &#39;tree_method&#39;: &#39;hist&#39;, &#39;objective&#39;: &#39;binary:logistic&#39;, &#39;base_score&#39;: 0.5, &#39;gamma&#39;: 0, &#39;min_child_weight&#39;: 1.5, &#39;max_bin&#39;: 100, &#39;learning_rate&#39;: 0.3}\n",
       "Testing params: {&#39;max_depth&#39;: 6, &#39;n_estimators&#39;: 150, &#39;reg_lambda&#39;: 1, &#39;reg_alpha&#39;: 0.1, &#39;tree_method&#39;: &#39;hist&#39;, &#39;objective&#39;: &#39;binary:logistic&#39;, &#39;base_score&#39;: 0.5, &#39;gamma&#39;: 0.05, &#39;min_child_weight&#39;: 1.5, &#39;max_bin&#39;: 100, &#39;learning_rate&#39;: 0.2}\n",
       "Testing params: {&#39;max_depth&#39;: 6, &#39;n_estimators&#39;: 150, &#39;reg_lambda&#39;: 1, &#39;reg_alpha&#39;: 0.1, &#39;tree_method&#39;: &#39;hist&#39;, &#39;objective&#39;: &#39;binary:logistic&#39;, &#39;base_score&#39;: 0.5, &#39;gamma&#39;: 0.05, &#39;min_child_weight&#39;: 1.5, &#39;max_bin&#39;: 100, &#39;learning_rate&#39;: 0.3}\n",
       "Testing params: {&#39;max_depth&#39;: 6, &#39;n_estimators&#39;: 150, &#39;reg_lambda&#39;: 1, &#39;reg_alpha&#39;: 0.5, &#39;tree_method&#39;: &#39;hist&#39;, &#39;objective&#39;: &#39;binary:logistic&#39;, &#39;base_score&#39;: 0.5, &#39;gamma&#39;: 0, &#39;min_child_weight&#39;: 1.5, &#39;max_bin&#39;: 100, &#39;learning_rate&#39;: 0.2}\n",
       "Testing params: {&#39;max_depth&#39;: 6, &#39;n_estimators&#39;: 150, &#39;reg_lambda&#39;: 1, &#39;reg_alpha&#39;: 0.5, &#39;tree_method&#39;: &#39;hist&#39;, &#39;objective&#39;: &#39;binary:logistic&#39;, &#39;base_score&#39;: 0.5, &#39;gamma&#39;: 0, &#39;min_child_weight&#39;: 1.5, &#39;max_bin&#39;: 100, &#39;learning_rate&#39;: 0.3}\n",
       "Testing params: {&#39;max_depth&#39;: 6, &#39;n_estimators&#39;: 150, &#39;reg_lambda&#39;: 1, &#39;reg_alpha&#39;: 0.5, &#39;tree_method&#39;: &#39;hist&#39;, &#39;objective&#39;: &#39;binary:logistic&#39;, &#39;base_score&#39;: 0.5, &#39;gamma&#39;: 0.05, &#39;min_child_weight&#39;: 1.5, &#39;max_bin&#39;: 100, &#39;learning_rate&#39;: 0.2}\n",
       "Testing params: {&#39;max_depth&#39;: 6, &#39;n_estimators&#39;: 150, &#39;reg_lambda&#39;: 1, &#39;reg_alpha&#39;: 0.5, &#39;tree_method&#39;: &#39;hist&#39;, &#39;objective&#39;: &#39;binary:logistic&#39;, &#39;base_score&#39;: 0.5, &#39;gamma&#39;: 0.05, &#39;min_child_weight&#39;: 1.5, &#39;max_bin&#39;: 100, &#39;learning_rate&#39;: 0.3}\n",
       "Optimal parameters: Params       {&#39;max_depth&#39;: 6, &#39;n_estimators&#39;: 150, &#39;reg_lam...\n",
       "F2                                                    0.584771\n",
       "Precision                                              0.32997\n",
       "Recall                                                0.736146\n",
       "Name: 10, dtype: object\n",
       "</div>"
      ]
     },
     "metadata": {
      "application/vnd.databricks.v1+output": {
       "addedWidgets": {},
       "arguments": {},
       "data": "<div class=\"ansiout\">Number of folds: 5\nNum parameter combinations to test: 16\nTesting params: {&#39;max_depth&#39;: 6, &#39;n_estimators&#39;: 150, &#39;reg_lambda&#39;: 0.5, &#39;reg_alpha&#39;: 0.1, &#39;tree_method&#39;: &#39;hist&#39;, &#39;objective&#39;: &#39;binary:logistic&#39;, &#39;base_score&#39;: 0.5, &#39;gamma&#39;: 0, &#39;min_child_weight&#39;: 1.5, &#39;max_bin&#39;: 100, &#39;learning_rate&#39;: 0.2}\nTesting params: {&#39;max_depth&#39;: 6, &#39;n_estimators&#39;: 150, &#39;reg_lambda&#39;: 0.5, &#39;reg_alpha&#39;: 0.1, &#39;tree_method&#39;: &#39;hist&#39;, &#39;objective&#39;: &#39;binary:logistic&#39;, &#39;base_score&#39;: 0.5, &#39;gamma&#39;: 0, &#39;min_child_weight&#39;: 1.5, &#39;max_bin&#39;: 100, &#39;learning_rate&#39;: 0.3}\nTesting params: {&#39;max_depth&#39;: 6, &#39;n_estimators&#39;: 150, &#39;reg_lambda&#39;: 0.5, &#39;reg_alpha&#39;: 0.1, &#39;tree_method&#39;: &#39;hist&#39;, &#39;objective&#39;: &#39;binary:logistic&#39;, &#39;base_score&#39;: 0.5, &#39;gamma&#39;: 0.05, &#39;min_child_weight&#39;: 1.5, &#39;max_bin&#39;: 100, &#39;learning_rate&#39;: 0.2}\nTesting params: {&#39;max_depth&#39;: 6, &#39;n_estimators&#39;: 150, &#39;reg_lambda&#39;: 0.5, &#39;reg_alpha&#39;: 0.1, &#39;tree_method&#39;: &#39;hist&#39;, &#39;objective&#39;: &#39;binary:logistic&#39;, &#39;base_score&#39;: 0.5, &#39;gamma&#39;: 0.05, &#39;min_child_weight&#39;: 1.5, &#39;max_bin&#39;: 100, &#39;learning_rate&#39;: 0.3}\nTesting params: {&#39;max_depth&#39;: 6, &#39;n_estimators&#39;: 150, &#39;reg_lambda&#39;: 0.5, &#39;reg_alpha&#39;: 0.5, &#39;tree_method&#39;: &#39;hist&#39;, &#39;objective&#39;: &#39;binary:logistic&#39;, &#39;base_score&#39;: 0.5, &#39;gamma&#39;: 0, &#39;min_child_weight&#39;: 1.5, &#39;max_bin&#39;: 100, &#39;learning_rate&#39;: 0.2}\nTesting params: {&#39;max_depth&#39;: 6, &#39;n_estimators&#39;: 150, &#39;reg_lambda&#39;: 0.5, &#39;reg_alpha&#39;: 0.5, &#39;tree_method&#39;: &#39;hist&#39;, &#39;objective&#39;: &#39;binary:logistic&#39;, &#39;base_score&#39;: 0.5, &#39;gamma&#39;: 0, &#39;min_child_weight&#39;: 1.5, &#39;max_bin&#39;: 100, &#39;learning_rate&#39;: 0.3}\nTesting params: {&#39;max_depth&#39;: 6, &#39;n_estimators&#39;: 150, &#39;reg_lambda&#39;: 0.5, &#39;reg_alpha&#39;: 0.5, &#39;tree_method&#39;: &#39;hist&#39;, &#39;objective&#39;: &#39;binary:logistic&#39;, &#39;base_score&#39;: 0.5, &#39;gamma&#39;: 0.05, &#39;min_child_weight&#39;: 1.5, &#39;max_bin&#39;: 100, &#39;learning_rate&#39;: 0.2}\nTesting params: {&#39;max_depth&#39;: 6, &#39;n_estimators&#39;: 150, &#39;reg_lambda&#39;: 0.5, &#39;reg_alpha&#39;: 0.5, &#39;tree_method&#39;: &#39;hist&#39;, &#39;objective&#39;: &#39;binary:logistic&#39;, &#39;base_score&#39;: 0.5, &#39;gamma&#39;: 0.05, &#39;min_child_weight&#39;: 1.5, &#39;max_bin&#39;: 100, &#39;learning_rate&#39;: 0.3}\nTesting params: {&#39;max_depth&#39;: 6, &#39;n_estimators&#39;: 150, &#39;reg_lambda&#39;: 1, &#39;reg_alpha&#39;: 0.1, &#39;tree_method&#39;: &#39;hist&#39;, &#39;objective&#39;: &#39;binary:logistic&#39;, &#39;base_score&#39;: 0.5, &#39;gamma&#39;: 0, &#39;min_child_weight&#39;: 1.5, &#39;max_bin&#39;: 100, &#39;learning_rate&#39;: 0.2}\nTesting params: {&#39;max_depth&#39;: 6, &#39;n_estimators&#39;: 150, &#39;reg_lambda&#39;: 1, &#39;reg_alpha&#39;: 0.1, &#39;tree_method&#39;: &#39;hist&#39;, &#39;objective&#39;: &#39;binary:logistic&#39;, &#39;base_score&#39;: 0.5, &#39;gamma&#39;: 0, &#39;min_child_weight&#39;: 1.5, &#39;max_bin&#39;: 100, &#39;learning_rate&#39;: 0.3}\nTesting params: {&#39;max_depth&#39;: 6, &#39;n_estimators&#39;: 150, &#39;reg_lambda&#39;: 1, &#39;reg_alpha&#39;: 0.1, &#39;tree_method&#39;: &#39;hist&#39;, &#39;objective&#39;: &#39;binary:logistic&#39;, &#39;base_score&#39;: 0.5, &#39;gamma&#39;: 0.05, &#39;min_child_weight&#39;: 1.5, &#39;max_bin&#39;: 100, &#39;learning_rate&#39;: 0.2}\nTesting params: {&#39;max_depth&#39;: 6, &#39;n_estimators&#39;: 150, &#39;reg_lambda&#39;: 1, &#39;reg_alpha&#39;: 0.1, &#39;tree_method&#39;: &#39;hist&#39;, &#39;objective&#39;: &#39;binary:logistic&#39;, &#39;base_score&#39;: 0.5, &#39;gamma&#39;: 0.05, &#39;min_child_weight&#39;: 1.5, &#39;max_bin&#39;: 100, &#39;learning_rate&#39;: 0.3}\nTesting params: {&#39;max_depth&#39;: 6, &#39;n_estimators&#39;: 150, &#39;reg_lambda&#39;: 1, &#39;reg_alpha&#39;: 0.5, &#39;tree_method&#39;: &#39;hist&#39;, &#39;objective&#39;: &#39;binary:logistic&#39;, &#39;base_score&#39;: 0.5, &#39;gamma&#39;: 0, &#39;min_child_weight&#39;: 1.5, &#39;max_bin&#39;: 100, &#39;learning_rate&#39;: 0.2}\nTesting params: {&#39;max_depth&#39;: 6, &#39;n_estimators&#39;: 150, &#39;reg_lambda&#39;: 1, &#39;reg_alpha&#39;: 0.5, &#39;tree_method&#39;: &#39;hist&#39;, &#39;objective&#39;: &#39;binary:logistic&#39;, &#39;base_score&#39;: 0.5, &#39;gamma&#39;: 0, &#39;min_child_weight&#39;: 1.5, &#39;max_bin&#39;: 100, &#39;learning_rate&#39;: 0.3}\nTesting params: {&#39;max_depth&#39;: 6, &#39;n_estimators&#39;: 150, &#39;reg_lambda&#39;: 1, &#39;reg_alpha&#39;: 0.5, &#39;tree_method&#39;: &#39;hist&#39;, &#39;objective&#39;: &#39;binary:logistic&#39;, &#39;base_score&#39;: 0.5, &#39;gamma&#39;: 0.05, &#39;min_child_weight&#39;: 1.5, &#39;max_bin&#39;: 100, &#39;learning_rate&#39;: 0.2}\nTesting params: {&#39;max_depth&#39;: 6, &#39;n_estimators&#39;: 150, &#39;reg_lambda&#39;: 1, &#39;reg_alpha&#39;: 0.5, &#39;tree_method&#39;: &#39;hist&#39;, &#39;objective&#39;: &#39;binary:logistic&#39;, &#39;base_score&#39;: 0.5, &#39;gamma&#39;: 0.05, &#39;min_child_weight&#39;: 1.5, &#39;max_bin&#39;: 100, &#39;learning_rate&#39;: 0.3}\nOptimal parameters: Params       {&#39;max_depth&#39;: 6, &#39;n_estimators&#39;: 150, &#39;reg_lam...\nF2                                                    0.584771\nPrecision                                              0.32997\nRecall                                                0.736146\nName: 10, dtype: object\n</div>",
       "datasetInfos": [],
       "metadata": {},
       "removedWidgets": [],
       "type": "html"
      }
     },
     "output_type": "display_data"
    }
   ],
   "source": [
    "param_dict5 = {'xgb':{#booster = params['booster'],\n",
    "                                'max_depth':[6],\n",
    "                                'n_estimators':[150],\n",
    "                                'reg_lambda':[0.5,1],\n",
    "                                'reg_alpha':[0.1,0.5],\n",
    "                                'tree_method':['hist'],\n",
    "                                'objective':['binary:logistic'],\n",
    "                                'base_score':[0.5],\n",
    "                                'gamma':[0,0.05],\n",
    "                                #'scale_pos_weight':[1],\n",
    "                                'min_child_weight':[1.5],\n",
    "                                #'max_delta_step':[0.7],\n",
    "                                'max_bin': [100],\n",
    "                                'learning_rate' : [0.2,0.3]}}\n",
    "\n",
    "xgb_opt = param_opt_cv(df_list,\n",
    "                            param_dict5,\n",
    "                            model_type = 'xgb',\n",
    "                            cts_features = cts_vars,\n",
    "                            cat_features = cat_vars,\n",
    "                            bucket_features = bucket_vars,\n",
    "                            balance_type = 'down')"
   ]
  },
  {
   "cell_type": "code",
   "execution_count": 0,
   "metadata": {
    "application/vnd.databricks.v1+cell": {
     "inputWidgets": {},
     "nuid": "7d9404cf-5776-40d3-8e19-1fdf71b73622",
     "showTitle": false,
     "title": ""
    }
   },
   "outputs": [
    {
     "data": {
      "text/html": [
       "<style scoped>\n",
       "  .ansiout {\n",
       "    display: block;\n",
       "    unicode-bidi: embed;\n",
       "    white-space: pre-wrap;\n",
       "    word-wrap: break-word;\n",
       "    word-break: break-all;\n",
       "    font-family: \"Source Code Pro\", \"Menlo\", monospace;;\n",
       "    font-size: 13px;\n",
       "    color: #555;\n",
       "    margin-left: 4px;\n",
       "    line-height: 19px;\n",
       "  }\n",
       "</style>\n",
       "<div class=\"ansiout\">Out[15]: </div>"
      ]
     },
     "metadata": {
      "application/vnd.databricks.v1+output": {
       "addedWidgets": {},
       "arguments": {},
       "data": "<div class=\"ansiout\">Out[15]: </div>",
       "datasetInfos": [],
       "metadata": {},
       "removedWidgets": [],
       "type": "html"
      }
     },
     "output_type": "display_data"
    },
    {
     "data": {
      "text/html": [
       "<div>\n",
       "<style scoped>\n",
       "    .dataframe tbody tr th:only-of-type {\n",
       "        vertical-align: middle;\n",
       "    }\n",
       "\n",
       "    .dataframe tbody tr th {\n",
       "        vertical-align: top;\n",
       "    }\n",
       "\n",
       "    .dataframe thead th {\n",
       "        text-align: right;\n",
       "    }\n",
       "</style>\n",
       "<table border=\"1\" class=\"dataframe\">\n",
       "  <thead>\n",
       "    <tr style=\"text-align: right;\">\n",
       "      <th></th>\n",
       "      <th>Params</th>\n",
       "      <th>F2</th>\n",
       "      <th>Precision</th>\n",
       "      <th>Recall</th>\n",
       "    </tr>\n",
       "  </thead>\n",
       "  <tbody>\n",
       "    <tr>\n",
       "      <th>0</th>\n",
       "      <td>{'max_depth': 6, 'n_estimators': 150, 'reg_lam...</td>\n",
       "      <td>0.584254</td>\n",
       "      <td>0.330522</td>\n",
       "      <td>0.734255</td>\n",
       "    </tr>\n",
       "    <tr>\n",
       "      <th>1</th>\n",
       "      <td>{'max_depth': 6, 'n_estimators': 150, 'reg_lam...</td>\n",
       "      <td>0.584311</td>\n",
       "      <td>0.329345</td>\n",
       "      <td>0.735267</td>\n",
       "    </tr>\n",
       "    <tr>\n",
       "      <th>2</th>\n",
       "      <td>{'max_depth': 6, 'n_estimators': 150, 'reg_lam...</td>\n",
       "      <td>0.584371</td>\n",
       "      <td>0.330502</td>\n",
       "      <td>0.734658</td>\n",
       "    </tr>\n",
       "    <tr>\n",
       "      <th>3</th>\n",
       "      <td>{'max_depth': 6, 'n_estimators': 150, 'reg_lam...</td>\n",
       "      <td>0.584274</td>\n",
       "      <td>0.329622</td>\n",
       "      <td>0.734908</td>\n",
       "    </tr>\n",
       "    <tr>\n",
       "      <th>4</th>\n",
       "      <td>{'max_depth': 6, 'n_estimators': 150, 'reg_lam...</td>\n",
       "      <td>0.584532</td>\n",
       "      <td>0.330556</td>\n",
       "      <td>0.734892</td>\n",
       "    </tr>\n",
       "    <tr>\n",
       "      <th>5</th>\n",
       "      <td>{'max_depth': 6, 'n_estimators': 150, 'reg_lam...</td>\n",
       "      <td>0.581830</td>\n",
       "      <td>0.329981</td>\n",
       "      <td>0.729399</td>\n",
       "    </tr>\n",
       "    <tr>\n",
       "      <th>6</th>\n",
       "      <td>{'max_depth': 6, 'n_estimators': 150, 'reg_lam...</td>\n",
       "      <td>0.584341</td>\n",
       "      <td>0.330519</td>\n",
       "      <td>0.734371</td>\n",
       "    </tr>\n",
       "    <tr>\n",
       "      <th>7</th>\n",
       "      <td>{'max_depth': 6, 'n_estimators': 150, 'reg_lam...</td>\n",
       "      <td>0.581927</td>\n",
       "      <td>0.329923</td>\n",
       "      <td>0.729943</td>\n",
       "    </tr>\n",
       "    <tr>\n",
       "      <th>8</th>\n",
       "      <td>{'max_depth': 6, 'n_estimators': 150, 'reg_lam...</td>\n",
       "      <td>0.584572</td>\n",
       "      <td>0.330167</td>\n",
       "      <td>0.735825</td>\n",
       "    </tr>\n",
       "    <tr>\n",
       "      <th>9</th>\n",
       "      <td>{'max_depth': 6, 'n_estimators': 150, 'reg_lam...</td>\n",
       "      <td>0.583468</td>\n",
       "      <td>0.329762</td>\n",
       "      <td>0.733065</td>\n",
       "    </tr>\n",
       "    <tr>\n",
       "      <th>10</th>\n",
       "      <td>{'max_depth': 6, 'n_estimators': 150, 'reg_lam...</td>\n",
       "      <td>0.584771</td>\n",
       "      <td>0.329970</td>\n",
       "      <td>0.736146</td>\n",
       "    </tr>\n",
       "    <tr>\n",
       "      <th>11</th>\n",
       "      <td>{'max_depth': 6, 'n_estimators': 150, 'reg_lam...</td>\n",
       "      <td>0.582550</td>\n",
       "      <td>0.330116</td>\n",
       "      <td>0.730703</td>\n",
       "    </tr>\n",
       "    <tr>\n",
       "      <th>12</th>\n",
       "      <td>{'max_depth': 6, 'n_estimators': 150, 'reg_lam...</td>\n",
       "      <td>0.584034</td>\n",
       "      <td>0.330864</td>\n",
       "      <td>0.733953</td>\n",
       "    </tr>\n",
       "    <tr>\n",
       "      <th>13</th>\n",
       "      <td>{'max_depth': 6, 'n_estimators': 150, 'reg_lam...</td>\n",
       "      <td>0.582215</td>\n",
       "      <td>0.330246</td>\n",
       "      <td>0.730497</td>\n",
       "    </tr>\n",
       "    <tr>\n",
       "      <th>14</th>\n",
       "      <td>{'max_depth': 6, 'n_estimators': 150, 'reg_lam...</td>\n",
       "      <td>0.584160</td>\n",
       "      <td>0.330388</td>\n",
       "      <td>0.735136</td>\n",
       "    </tr>\n",
       "    <tr>\n",
       "      <th>15</th>\n",
       "      <td>{'max_depth': 6, 'n_estimators': 150, 'reg_lam...</td>\n",
       "      <td>0.582574</td>\n",
       "      <td>0.329910</td>\n",
       "      <td>0.731376</td>\n",
       "    </tr>\n",
       "  </tbody>\n",
       "</table>\n",
       "</div>"
      ]
     },
     "metadata": {
      "application/vnd.databricks.v1+output": {
       "addedWidgets": {},
       "arguments": {},
       "data": "<div>\n<style scoped>\n    .dataframe tbody tr th:only-of-type {\n        vertical-align: middle;\n    }\n\n    .dataframe tbody tr th {\n        vertical-align: top;\n    }\n\n    .dataframe thead th {\n        text-align: right;\n    }\n</style>\n<table border=\"1\" class=\"dataframe\">\n  <thead>\n    <tr style=\"text-align: right;\">\n      <th></th>\n      <th>Params</th>\n      <th>F2</th>\n      <th>Precision</th>\n      <th>Recall</th>\n    </tr>\n  </thead>\n  <tbody>\n    <tr>\n      <th>0</th>\n      <td>{'max_depth': 6, 'n_estimators': 150, 'reg_lam...</td>\n      <td>0.584254</td>\n      <td>0.330522</td>\n      <td>0.734255</td>\n    </tr>\n    <tr>\n      <th>1</th>\n      <td>{'max_depth': 6, 'n_estimators': 150, 'reg_lam...</td>\n      <td>0.584311</td>\n      <td>0.329345</td>\n      <td>0.735267</td>\n    </tr>\n    <tr>\n      <th>2</th>\n      <td>{'max_depth': 6, 'n_estimators': 150, 'reg_lam...</td>\n      <td>0.584371</td>\n      <td>0.330502</td>\n      <td>0.734658</td>\n    </tr>\n    <tr>\n      <th>3</th>\n      <td>{'max_depth': 6, 'n_estimators': 150, 'reg_lam...</td>\n      <td>0.584274</td>\n      <td>0.329622</td>\n      <td>0.734908</td>\n    </tr>\n    <tr>\n      <th>4</th>\n      <td>{'max_depth': 6, 'n_estimators': 150, 'reg_lam...</td>\n      <td>0.584532</td>\n      <td>0.330556</td>\n      <td>0.734892</td>\n    </tr>\n    <tr>\n      <th>5</th>\n      <td>{'max_depth': 6, 'n_estimators': 150, 'reg_lam...</td>\n      <td>0.581830</td>\n      <td>0.329981</td>\n      <td>0.729399</td>\n    </tr>\n    <tr>\n      <th>6</th>\n      <td>{'max_depth': 6, 'n_estimators': 150, 'reg_lam...</td>\n      <td>0.584341</td>\n      <td>0.330519</td>\n      <td>0.734371</td>\n    </tr>\n    <tr>\n      <th>7</th>\n      <td>{'max_depth': 6, 'n_estimators': 150, 'reg_lam...</td>\n      <td>0.581927</td>\n      <td>0.329923</td>\n      <td>0.729943</td>\n    </tr>\n    <tr>\n      <th>8</th>\n      <td>{'max_depth': 6, 'n_estimators': 150, 'reg_lam...</td>\n      <td>0.584572</td>\n      <td>0.330167</td>\n      <td>0.735825</td>\n    </tr>\n    <tr>\n      <th>9</th>\n      <td>{'max_depth': 6, 'n_estimators': 150, 'reg_lam...</td>\n      <td>0.583468</td>\n      <td>0.329762</td>\n      <td>0.733065</td>\n    </tr>\n    <tr>\n      <th>10</th>\n      <td>{'max_depth': 6, 'n_estimators': 150, 'reg_lam...</td>\n      <td>0.584771</td>\n      <td>0.329970</td>\n      <td>0.736146</td>\n    </tr>\n    <tr>\n      <th>11</th>\n      <td>{'max_depth': 6, 'n_estimators': 150, 'reg_lam...</td>\n      <td>0.582550</td>\n      <td>0.330116</td>\n      <td>0.730703</td>\n    </tr>\n    <tr>\n      <th>12</th>\n      <td>{'max_depth': 6, 'n_estimators': 150, 'reg_lam...</td>\n      <td>0.584034</td>\n      <td>0.330864</td>\n      <td>0.733953</td>\n    </tr>\n    <tr>\n      <th>13</th>\n      <td>{'max_depth': 6, 'n_estimators': 150, 'reg_lam...</td>\n      <td>0.582215</td>\n      <td>0.330246</td>\n      <td>0.730497</td>\n    </tr>\n    <tr>\n      <th>14</th>\n      <td>{'max_depth': 6, 'n_estimators': 150, 'reg_lam...</td>\n      <td>0.584160</td>\n      <td>0.330388</td>\n      <td>0.735136</td>\n    </tr>\n    <tr>\n      <th>15</th>\n      <td>{'max_depth': 6, 'n_estimators': 150, 'reg_lam...</td>\n      <td>0.582574</td>\n      <td>0.329910</td>\n      <td>0.731376</td>\n    </tr>\n  </tbody>\n</table>\n</div>",
       "datasetInfos": [],
       "metadata": {},
       "removedWidgets": [],
       "textData": null,
       "type": "htmlSandbox"
      }
     },
     "output_type": "display_data"
    }
   ],
   "source": [
    "xgb_opt"
   ]
  },
  {
   "cell_type": "markdown",
   "metadata": {
    "application/vnd.databricks.v1+cell": {
     "inputWidgets": {},
     "nuid": "a47e5e6d-b765-431a-84fb-22aad652a9cd",
     "showTitle": false,
     "title": ""
    }
   },
   "source": [
    "Iteration 2"
   ]
  },
  {
   "cell_type": "code",
   "execution_count": 0,
   "metadata": {
    "application/vnd.databricks.v1+cell": {
     "inputWidgets": {},
     "nuid": "5d37b64f-0813-46c9-b9a7-2ea031fcae15",
     "showTitle": false,
     "title": ""
    }
   },
   "outputs": [
    {
     "data": {
      "text/html": [
       "<style scoped>\n",
       "  .ansiout {\n",
       "    display: block;\n",
       "    unicode-bidi: embed;\n",
       "    white-space: pre-wrap;\n",
       "    word-wrap: break-word;\n",
       "    word-break: break-all;\n",
       "    font-family: \"Source Code Pro\", \"Menlo\", monospace;;\n",
       "    font-size: 13px;\n",
       "    color: #555;\n",
       "    margin-left: 4px;\n",
       "    line-height: 19px;\n",
       "  }\n",
       "</style>\n",
       "<div class=\"ansiout\">Number of folds: 5\n",
       "Num parameter combinations to test: 4\n",
       "Testing params: {&#39;max_depth&#39;: 6, &#39;n_estimators&#39;: 150, &#39;reg_lambda&#39;: 1, &#39;reg_alpha&#39;: 0.1, &#39;tree_method&#39;: &#39;hist&#39;, &#39;objective&#39;: &#39;binary:logistic&#39;, &#39;base_score&#39;: 0.5, &#39;gamma&#39;: 0.05, &#39;min_child_weight&#39;: 1.5, &#39;max_bin&#39;: 50, &#39;learning_rate&#39;: 0.2}\n",
       "Testing params: {&#39;max_depth&#39;: 6, &#39;n_estimators&#39;: 150, &#39;reg_lambda&#39;: 1, &#39;reg_alpha&#39;: 0.1, &#39;tree_method&#39;: &#39;hist&#39;, &#39;objective&#39;: &#39;binary:logistic&#39;, &#39;base_score&#39;: 0.5, &#39;gamma&#39;: 0.05, &#39;min_child_weight&#39;: 1.5, &#39;max_bin&#39;: 100, &#39;learning_rate&#39;: 0.2}\n",
       "Testing params: {&#39;max_depth&#39;: 6, &#39;n_estimators&#39;: 150, &#39;reg_lambda&#39;: 1, &#39;reg_alpha&#39;: 0.2, &#39;tree_method&#39;: &#39;hist&#39;, &#39;objective&#39;: &#39;binary:logistic&#39;, &#39;base_score&#39;: 0.5, &#39;gamma&#39;: 0.05, &#39;min_child_weight&#39;: 1.5, &#39;max_bin&#39;: 50, &#39;learning_rate&#39;: 0.2}\n",
       "Testing params: {&#39;max_depth&#39;: 6, &#39;n_estimators&#39;: 150, &#39;reg_lambda&#39;: 1, &#39;reg_alpha&#39;: 0.2, &#39;tree_method&#39;: &#39;hist&#39;, &#39;objective&#39;: &#39;binary:logistic&#39;, &#39;base_score&#39;: 0.5, &#39;gamma&#39;: 0.05, &#39;min_child_weight&#39;: 1.5, &#39;max_bin&#39;: 100, &#39;learning_rate&#39;: 0.2}\n",
       "Optimal parameters: Params       {&#39;max_depth&#39;: 6, &#39;n_estimators&#39;: 150, &#39;reg_lam...\n",
       "F2                                                    0.584068\n",
       "Precision                                             0.331052\n",
       "Recall                                                 0.72917\n",
       "Name: 2, dtype: object\n",
       "</div>"
      ]
     },
     "metadata": {
      "application/vnd.databricks.v1+output": {
       "addedWidgets": {},
       "arguments": {},
       "data": "<div class=\"ansiout\">Number of folds: 5\nNum parameter combinations to test: 4\nTesting params: {&#39;max_depth&#39;: 6, &#39;n_estimators&#39;: 150, &#39;reg_lambda&#39;: 1, &#39;reg_alpha&#39;: 0.1, &#39;tree_method&#39;: &#39;hist&#39;, &#39;objective&#39;: &#39;binary:logistic&#39;, &#39;base_score&#39;: 0.5, &#39;gamma&#39;: 0.05, &#39;min_child_weight&#39;: 1.5, &#39;max_bin&#39;: 50, &#39;learning_rate&#39;: 0.2}\nTesting params: {&#39;max_depth&#39;: 6, &#39;n_estimators&#39;: 150, &#39;reg_lambda&#39;: 1, &#39;reg_alpha&#39;: 0.1, &#39;tree_method&#39;: &#39;hist&#39;, &#39;objective&#39;: &#39;binary:logistic&#39;, &#39;base_score&#39;: 0.5, &#39;gamma&#39;: 0.05, &#39;min_child_weight&#39;: 1.5, &#39;max_bin&#39;: 100, &#39;learning_rate&#39;: 0.2}\nTesting params: {&#39;max_depth&#39;: 6, &#39;n_estimators&#39;: 150, &#39;reg_lambda&#39;: 1, &#39;reg_alpha&#39;: 0.2, &#39;tree_method&#39;: &#39;hist&#39;, &#39;objective&#39;: &#39;binary:logistic&#39;, &#39;base_score&#39;: 0.5, &#39;gamma&#39;: 0.05, &#39;min_child_weight&#39;: 1.5, &#39;max_bin&#39;: 50, &#39;learning_rate&#39;: 0.2}\nTesting params: {&#39;max_depth&#39;: 6, &#39;n_estimators&#39;: 150, &#39;reg_lambda&#39;: 1, &#39;reg_alpha&#39;: 0.2, &#39;tree_method&#39;: &#39;hist&#39;, &#39;objective&#39;: &#39;binary:logistic&#39;, &#39;base_score&#39;: 0.5, &#39;gamma&#39;: 0.05, &#39;min_child_weight&#39;: 1.5, &#39;max_bin&#39;: 100, &#39;learning_rate&#39;: 0.2}\nOptimal parameters: Params       {&#39;max_depth&#39;: 6, &#39;n_estimators&#39;: 150, &#39;reg_lam...\nF2                                                    0.584068\nPrecision                                             0.331052\nRecall                                                 0.72917\nName: 2, dtype: object\n</div>",
       "datasetInfos": [],
       "metadata": {},
       "removedWidgets": [],
       "type": "html"
      }
     },
     "output_type": "display_data"
    }
   ],
   "source": [
    "param_dict6 = {'xgb':{#booster = params['booster'],\n",
    "                                'max_depth':[6],\n",
    "                                'n_estimators':[150],\n",
    "                                'reg_lambda':[1],\n",
    "                                'reg_alpha':[0.1,0.2],\n",
    "                                'tree_method':['hist'],\n",
    "                                'objective':['binary:logistic'],\n",
    "                                'base_score':[0.5],\n",
    "                                'gamma':[0.05],\n",
    "                                #'scale_pos_weight':[1],\n",
    "                                'min_child_weight':[1.5],\n",
    "                                #'max_delta_step':[0.7],\n",
    "                                'max_bin': [50,100],\n",
    "                                'learning_rate' : [0.2]}}\n",
    "\n",
    "xgb_opt_2 = param_opt_cv(df_list,\n",
    "                            param_dict6,\n",
    "                            model_type = 'xgb',\n",
    "                            cts_features = cts_vars,\n",
    "                            cat_features = cat_vars,\n",
    "                            bucket_features = bucket_vars,\n",
    "                            balance_type = 'down')"
   ]
  },
  {
   "cell_type": "code",
   "execution_count": 0,
   "metadata": {
    "application/vnd.databricks.v1+cell": {
     "inputWidgets": {},
     "nuid": "41364fcf-c837-4f3d-b584-f7b804eb55d4",
     "showTitle": false,
     "title": ""
    }
   },
   "outputs": [
    {
     "data": {
      "text/html": [
       "<style scoped>\n",
       "  .ansiout {\n",
       "    display: block;\n",
       "    unicode-bidi: embed;\n",
       "    white-space: pre-wrap;\n",
       "    word-wrap: break-word;\n",
       "    word-break: break-all;\n",
       "    font-family: \"Source Code Pro\", \"Menlo\", monospace;;\n",
       "    font-size: 13px;\n",
       "    color: #555;\n",
       "    margin-left: 4px;\n",
       "    line-height: 19px;\n",
       "  }\n",
       "</style>\n",
       "<div class=\"ansiout\">Out[41]: </div>"
      ]
     },
     "metadata": {
      "application/vnd.databricks.v1+output": {
       "addedWidgets": {},
       "arguments": {},
       "data": "<div class=\"ansiout\">Out[41]: </div>",
       "datasetInfos": [],
       "metadata": {},
       "removedWidgets": [],
       "type": "html"
      }
     },
     "output_type": "display_data"
    },
    {
     "data": {
      "text/html": [
       "<div>\n",
       "<style scoped>\n",
       "    .dataframe tbody tr th:only-of-type {\n",
       "        vertical-align: middle;\n",
       "    }\n",
       "\n",
       "    .dataframe tbody tr th {\n",
       "        vertical-align: top;\n",
       "    }\n",
       "\n",
       "    .dataframe thead th {\n",
       "        text-align: right;\n",
       "    }\n",
       "</style>\n",
       "<table border=\"1\" class=\"dataframe\">\n",
       "  <thead>\n",
       "    <tr style=\"text-align: right;\">\n",
       "      <th></th>\n",
       "      <th>Params</th>\n",
       "      <th>F2</th>\n",
       "      <th>Precision</th>\n",
       "      <th>Recall</th>\n",
       "    </tr>\n",
       "  </thead>\n",
       "  <tbody>\n",
       "    <tr>\n",
       "      <th>0</th>\n",
       "      <td>{'max_depth': 6, 'n_estimators': 150, 'reg_lam...</td>\n",
       "      <td>0.583930</td>\n",
       "      <td>0.330424</td>\n",
       "      <td>0.730531</td>\n",
       "    </tr>\n",
       "    <tr>\n",
       "      <th>1</th>\n",
       "      <td>{'max_depth': 6, 'n_estimators': 150, 'reg_lam...</td>\n",
       "      <td>0.583930</td>\n",
       "      <td>0.330424</td>\n",
       "      <td>0.730531</td>\n",
       "    </tr>\n",
       "    <tr>\n",
       "      <th>2</th>\n",
       "      <td>{'max_depth': 6, 'n_estimators': 150, 'reg_lam...</td>\n",
       "      <td>0.584068</td>\n",
       "      <td>0.331052</td>\n",
       "      <td>0.729170</td>\n",
       "    </tr>\n",
       "    <tr>\n",
       "      <th>3</th>\n",
       "      <td>{'max_depth': 6, 'n_estimators': 150, 'reg_lam...</td>\n",
       "      <td>0.584068</td>\n",
       "      <td>0.331052</td>\n",
       "      <td>0.729170</td>\n",
       "    </tr>\n",
       "  </tbody>\n",
       "</table>\n",
       "</div>"
      ]
     },
     "metadata": {
      "application/vnd.databricks.v1+output": {
       "addedWidgets": {},
       "arguments": {},
       "data": "<div>\n<style scoped>\n    .dataframe tbody tr th:only-of-type {\n        vertical-align: middle;\n    }\n\n    .dataframe tbody tr th {\n        vertical-align: top;\n    }\n\n    .dataframe thead th {\n        text-align: right;\n    }\n</style>\n<table border=\"1\" class=\"dataframe\">\n  <thead>\n    <tr style=\"text-align: right;\">\n      <th></th>\n      <th>Params</th>\n      <th>F2</th>\n      <th>Precision</th>\n      <th>Recall</th>\n    </tr>\n  </thead>\n  <tbody>\n    <tr>\n      <th>0</th>\n      <td>{'max_depth': 6, 'n_estimators': 150, 'reg_lam...</td>\n      <td>0.583930</td>\n      <td>0.330424</td>\n      <td>0.730531</td>\n    </tr>\n    <tr>\n      <th>1</th>\n      <td>{'max_depth': 6, 'n_estimators': 150, 'reg_lam...</td>\n      <td>0.583930</td>\n      <td>0.330424</td>\n      <td>0.730531</td>\n    </tr>\n    <tr>\n      <th>2</th>\n      <td>{'max_depth': 6, 'n_estimators': 150, 'reg_lam...</td>\n      <td>0.584068</td>\n      <td>0.331052</td>\n      <td>0.729170</td>\n    </tr>\n    <tr>\n      <th>3</th>\n      <td>{'max_depth': 6, 'n_estimators': 150, 'reg_lam...</td>\n      <td>0.584068</td>\n      <td>0.331052</td>\n      <td>0.729170</td>\n    </tr>\n  </tbody>\n</table>\n</div>",
       "datasetInfos": [],
       "metadata": {},
       "removedWidgets": [],
       "textData": null,
       "type": "htmlSandbox"
      }
     },
     "output_type": "display_data"
    }
   ],
   "source": [
    "xgb_opt_2"
   ]
  },
  {
   "cell_type": "markdown",
   "metadata": {
    "application/vnd.databricks.v1+cell": {
     "inputWidgets": {},
     "nuid": "97f0feba-7323-401e-97ec-1a3dc2666bfb",
     "showTitle": false,
     "title": ""
    }
   },
   "source": [
    "### Final Model"
   ]
  },
  {
   "cell_type": "code",
   "execution_count": 0,
   "metadata": {
    "application/vnd.databricks.v1+cell": {
     "inputWidgets": {},
     "nuid": "d8b249d0-fa9a-4b8f-8858-a8a036c3f20b",
     "showTitle": false,
     "title": ""
    }
   },
   "outputs": [
    {
     "data": {
      "text/html": [
       "<style scoped>\n",
       "  .ansiout {\n",
       "    display: block;\n",
       "    unicode-bidi: embed;\n",
       "    white-space: pre-wrap;\n",
       "    word-wrap: break-word;\n",
       "    word-break: break-all;\n",
       "    font-family: \"Source Code Pro\", \"Menlo\", monospace;;\n",
       "    font-size: 13px;\n",
       "    color: #555;\n",
       "    margin-left: 4px;\n",
       "    line-height: 19px;\n",
       "  }\n",
       "</style>\n",
       "<div class=\"ansiout\"></div>"
      ]
     },
     "metadata": {
      "application/vnd.databricks.v1+output": {
       "addedWidgets": {},
       "arguments": {},
       "data": "<div class=\"ansiout\"></div>",
       "datasetInfos": [],
       "metadata": {},
       "removedWidgets": [],
       "type": "html"
      }
     },
     "output_type": "display_data"
    }
   ],
   "source": [
    "train_df = load_data(prefolded = False).filter(F.col('YEAR') != 2019).withColumnRenamed('DEP_DEL15','label').withColumnRenamed('DISTANCE_GROUP','DISTANCE')\n",
    "val_df = load_data(prefolded = False).filter(F.col('YEAR') == 2019).withColumnRenamed('DEP_DEL15','label').withColumnRenamed('DISTANCE_GROUP','DISTANCE')"
   ]
  },
  {
   "cell_type": "code",
   "execution_count": 0,
   "metadata": {
    "application/vnd.databricks.v1+cell": {
     "inputWidgets": {},
     "nuid": "5cd37cf9-0d7b-4eb5-a0f1-1d76f001aded",
     "showTitle": false,
     "title": ""
    }
   },
   "outputs": [
    {
     "data": {
      "text/html": [
       "<style scoped>\n",
       "  .ansiout {\n",
       "    display: block;\n",
       "    unicode-bidi: embed;\n",
       "    white-space: pre-wrap;\n",
       "    word-wrap: break-word;\n",
       "    word-break: break-all;\n",
       "    font-family: \"Source Code Pro\", \"Menlo\", monospace;;\n",
       "    font-size: 13px;\n",
       "    color: #555;\n",
       "    margin-left: 4px;\n",
       "    line-height: 19px;\n",
       "  }\n",
       "</style>\n",
       "<div class=\"ansiout\">Balancing factor: 0.22\n",
       "Num observations after balancing: 8305013\n",
       "</div>"
      ]
     },
     "metadata": {
      "application/vnd.databricks.v1+output": {
       "addedWidgets": {},
       "arguments": {},
       "data": "<div class=\"ansiout\">Balancing factor: 0.22\nNum observations after balancing: 8305013\n</div>",
       "datasetInfos": [],
       "metadata": {},
       "removedWidgets": [],
       "type": "html"
      }
     },
     "output_type": "display_data"
    }
   ],
   "source": [
    "params = {'xgb':{#booster = params['booster'],\n",
    "                                'max_depth':6,\n",
    "                                'n_estimators':150,\n",
    "                                'reg_lambda':1,\n",
    "                                'reg_alpha':0.2,\n",
    "                                'tree_method':'hist',\n",
    "                                'objective':'binary:logistic',\n",
    "                                'base_score':0.5,\n",
    "                                'gamma':0.05,\n",
    "                                #'scale_pos_weight':[1],\n",
    "                                'min_child_weight':1.5,\n",
    "                                'max_bin': 50,\n",
    "                                'learning_rate' : 0.2}}\n",
    "\n",
    "xgb_model = fit_model(train_df,\n",
    "                     'xgb',\n",
    "                     params,\n",
    "                     cts_features = cts_vars,\n",
    "                     cat_features = cat_vars,\n",
    "                     bucket_features = bucket_vars,\n",
    "                     balance_type = 'down')"
   ]
  },
  {
   "cell_type": "code",
   "execution_count": 0,
   "metadata": {
    "application/vnd.databricks.v1+cell": {
     "inputWidgets": {},
     "nuid": "78b6cf20-ab29-4bed-b9ed-bd89334e71f1",
     "showTitle": false,
     "title": ""
    }
   },
   "outputs": [
    {
     "data": {
      "text/html": [
       "<style scoped>\n",
       "  .ansiout {\n",
       "    display: block;\n",
       "    unicode-bidi: embed;\n",
       "    white-space: pre-wrap;\n",
       "    word-wrap: break-word;\n",
       "    word-break: break-all;\n",
       "    font-family: \"Source Code Pro\", \"Menlo\", monospace;;\n",
       "    font-size: 13px;\n",
       "    color: #555;\n",
       "    margin-left: 4px;\n",
       "    line-height: 19px;\n",
       "  }\n",
       "</style>\n",
       "<div class=\"ansiout\"></div>"
      ]
     },
     "metadata": {
      "application/vnd.databricks.v1+output": {
       "addedWidgets": {},
       "arguments": {},
       "data": "<div class=\"ansiout\"></div>",
       "datasetInfos": [],
       "metadata": {},
       "removedWidgets": [],
       "type": "html"
      }
     },
     "output_type": "display_data"
    }
   ],
   "source": [
    "val_pred = xgb_model.transform(val_df)\n",
    "val_pred.write.parquet(f\"{blob_url}/val_pred_xgb_3\")"
   ]
  },
  {
   "cell_type": "code",
   "execution_count": 0,
   "metadata": {
    "application/vnd.databricks.v1+cell": {
     "inputWidgets": {},
     "nuid": "ab660fb7-b920-476c-8b31-dc3635adf1d0",
     "showTitle": false,
     "title": ""
    }
   },
   "outputs": [
    {
     "data": {
      "text/html": [
       "<style scoped>\n",
       "  .ansiout {\n",
       "    display: block;\n",
       "    unicode-bidi: embed;\n",
       "    white-space: pre-wrap;\n",
       "    word-wrap: break-word;\n",
       "    word-break: break-all;\n",
       "    font-family: \"Source Code Pro\", \"Menlo\", monospace;;\n",
       "    font-size: 13px;\n",
       "    color: #555;\n",
       "    margin-left: 4px;\n",
       "    line-height: 19px;\n",
       "  }\n",
       "</style>\n",
       "<div class=\"ansiout\">Precison:0.3275013564358656\n",
       "Recall:0.7603614189119354\n",
       "F2:0.6013895477460814\n",
       "Accuracy:0.6616949571172717\n",
       "</div>"
      ]
     },
     "metadata": {
      "application/vnd.databricks.v1+output": {
       "addedWidgets": {},
       "arguments": {},
       "data": "<div class=\"ansiout\">Precison:0.3275013564358656\nRecall:0.7603614189119354\nF2:0.6013895477460814\nAccuracy:0.6616949571172717\n</div>",
       "datasetInfos": [],
       "metadata": {},
       "removedWidgets": [],
       "type": "html"
      }
     },
     "output_type": "display_data"
    }
   ],
   "source": [
    "metrics = eval_p_r_f2(val_pred)\n",
    "print(f'Precison:{metrics[0]}')\n",
    "print(f'Recall:{metrics[1]}')\n",
    "print(f'F2:{metrics[2]}')\n",
    "print(f'Accuracy:{metrics[3]}')"
   ]
  }
 ],
 "metadata": {
  "application/vnd.databricks.v1+notebook": {
   "dashboards": [],
   "language": "python",
   "notebookMetadata": {
    "pythonIndentUnit": 4
   },
   "notebookName": "Model Pipeline - Framework and Runs",
   "notebookOrigID": 4070574710015602,
   "widgets": {}
  },
  "kernelspec": {
   "display_name": "Python 3",
   "language": "python",
   "name": "python3"
  },
  "language_info": {
   "codemirror_mode": {
    "name": "ipython",
    "version": 3
   },
   "file_extension": ".py",
   "mimetype": "text/x-python",
   "name": "python",
   "nbconvert_exporter": "python",
   "pygments_lexer": "ipython3",
   "version": "3.8.5"
  }
 },
 "nbformat": 4,
 "nbformat_minor": 1
}
